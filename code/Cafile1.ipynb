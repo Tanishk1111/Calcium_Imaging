{
 "cells": [
  {
   "cell_type": "markdown",
   "metadata": {},
   "source": [
    "ONE LAYER"
   ]
  },
  {
   "cell_type": "code",
   "execution_count": 33,
   "metadata": {},
   "outputs": [
    {
     "name": "stdout",
     "output_type": "stream",
     "text": [
      "[array([[0.00000000e+000, 0.00000000e+000, 0.00000000e+000, ...,\n",
      "         6.42740394e-004, 6.10910320e-004, 5.80656549e-004],\n",
      "        [0.00000000e+000, 0.00000000e+000, 0.00000000e+000, ...,\n",
      "         0.00000000e+000, 0.00000000e+000, 0.00000000e+000],\n",
      "        [9.48571063e-001, 8.94820508e-001, 8.44115714e-001, ...,\n",
      "         3.88815240e-004, 3.66783116e-004, 3.45999437e-004],\n",
      "        ...,\n",
      "        [0.00000000e+000, 0.00000000e+000, 0.00000000e+000, ...,\n",
      "         0.00000000e+000, 0.00000000e+000, 0.00000000e+000],\n",
      "        [0.00000000e+000, 0.00000000e+000, 0.00000000e+000, ...,\n",
      "         5.91954733e-176, 5.09093362e-176, 4.37830863e-176],\n",
      "        [0.00000000e+000, 0.00000000e+000, 0.00000000e+000, ...,\n",
      "         0.00000000e+000, 0.00000000e+000, 0.00000000e+000]])\n",
      " array([[5.51901019e-004, 5.24569533e-004, 4.98591569e-004, ...,\n",
      "         0.00000000e+000, 0.00000000e+000, 0.00000000e+000],\n",
      "        [0.00000000e+000, 0.00000000e+000, 0.00000000e+000, ...,\n",
      "         0.00000000e+000, 0.00000000e+000, 0.00000000e+000],\n",
      "        [3.26393461e-004, 3.07898452e-004, 2.90451459e-004, ...,\n",
      "         0.00000000e+000, 0.00000000e+000, 0.00000000e+000],\n",
      "        ...,\n",
      "        [0.00000000e+000, 0.00000000e+000, 0.00000000e+000, ...,\n",
      "         0.00000000e+000, 0.00000000e+000, 0.00000000e+000],\n",
      "        [3.76543633e-176, 3.23835343e-176, 2.78505119e-176, ...,\n",
      "         0.00000000e+000, 0.00000000e+000, 0.00000000e+000],\n",
      "        [0.00000000e+000, 0.00000000e+000, 0.00000000e+000, ...,\n",
      "         0.00000000e+000, 0.00000000e+000, 0.00000000e+000]])\n",
      " array([[0.00000000e+00, 0.00000000e+00, 0.00000000e+00, ...,\n",
      "         1.18268394e-02, 1.12411454e-02, 1.06844565e-02],\n",
      "        [0.00000000e+00, 0.00000000e+00, 0.00000000e+00, ...,\n",
      "         0.00000000e+00, 0.00000000e+00, 0.00000000e+00],\n",
      "        [0.00000000e+00, 0.00000000e+00, 0.00000000e+00, ...,\n",
      "         0.00000000e+00, 0.00000000e+00, 0.00000000e+00],\n",
      "        ...,\n",
      "        [0.00000000e+00, 0.00000000e+00, 0.00000000e+00, ...,\n",
      "         0.00000000e+00, 0.00000000e+00, 0.00000000e+00],\n",
      "        [0.00000000e+00, 0.00000000e+00, 0.00000000e+00, ...,\n",
      "         0.00000000e+00, 0.00000000e+00, 0.00000000e+00],\n",
      "        [0.00000000e+00, 0.00000000e+00, 0.00000000e+00, ...,\n",
      "         1.83627485e-09, 1.58542348e-09, 1.36884062e-09]])\n",
      " array([[1.01553361e-02, 9.65241906e-03, 9.17440770e-03, ...,\n",
      "         0.00000000e+00, 0.00000000e+00, 0.00000000e+00],\n",
      "        [0.00000000e+00, 0.00000000e+00, 0.00000000e+00, ...,\n",
      "         0.00000000e+00, 0.00000000e+00, 0.00000000e+00],\n",
      "        [0.00000000e+00, 0.00000000e+00, 0.00000000e+00, ...,\n",
      "         0.00000000e+00, 0.00000000e+00, 0.00000000e+00],\n",
      "        ...,\n",
      "        [0.00000000e+00, 0.00000000e+00, 0.00000000e+00, ...,\n",
      "         0.00000000e+00, 0.00000000e+00, 0.00000000e+00],\n",
      "        [0.00000000e+00, 0.00000000e+00, 0.00000000e+00, ...,\n",
      "         0.00000000e+00, 0.00000000e+00, 0.00000000e+00],\n",
      "        [1.18184490e-09, 1.02039444e-09, 8.80999546e-10, ...,\n",
      "         0.00000000e+00, 0.00000000e+00, 0.00000000e+00]])   ]\n"
     ]
    }
   ],
   "source": [
    "import os\n",
    "import tarfile\n",
    "import matplotlib.pyplot as plt\n",
    "import pandas as pd\n",
    "import torch\n",
    "from pathlib import Path\n",
    "from NeuralNMF import train\n",
    "from sklearn.feature_extraction.text import TfidfVectorizer\n",
    "from NeuralNMF import Neural_NMF\n",
    "import pickle\n",
    "import scipy.io\n",
    "import random\n",
    "import numpy as np\n",
    "\n",
    "\n",
    "np.random.seed(0)\n",
    "random.seed(0)\n",
    "torch.manual_seed(0)\n",
    "torch.use_deterministic_algorithms(True)\n",
    "\n",
    "\n",
    "mat_data = scipy.io.loadmat(r\"C:\\Users\\ASUS\\Downloads\\For_Tezuka\\For_Tezuka\\Opto_Data_CLa18.mat\")\n",
    "\n",
    "print(mat_data[\"C\"][0])\n",
    "\n"
   ]
  },
  {
   "cell_type": "code",
   "execution_count": 35,
   "metadata": {},
   "outputs": [
    {
     "data": {
      "text/plain": [
       "(81, 6012)"
      ]
     },
     "execution_count": 35,
     "metadata": {},
     "output_type": "execute_result"
    }
   ],
   "source": [
    "mat_data[\"S\"][0][0].shape"
   ]
  },
  {
   "cell_type": "code",
   "execution_count": 36,
   "metadata": {},
   "outputs": [],
   "source": [
    "train__ = mat_data[\"S\"][0][0]\n",
    "\n",
    "train__ = torch.tensor(train__)"
   ]
  },
  {
   "cell_type": "code",
   "execution_count": 37,
   "metadata": {},
   "outputs": [],
   "source": [
    "opto = mat_data[\"opt\"][0][0]"
   ]
  },
  {
   "cell_type": "code",
   "execution_count": 38,
   "metadata": {},
   "outputs": [
    {
     "data": {
      "text/plain": [
       "array([[0, 0, 0, ..., 0, 0, 0]], dtype=uint8)"
      ]
     },
     "execution_count": 38,
     "metadata": {},
     "output_type": "execute_result"
    }
   ],
   "source": [
    "opto"
   ]
  },
  {
   "cell_type": "code",
   "execution_count": 84,
   "metadata": {},
   "outputs": [],
   "source": [
    "m, k1 = 81, 3\n",
    "net = Neural_NMF([m, k1])"
   ]
  },
  {
   "cell_type": "code",
   "execution_count": 85,
   "metadata": {},
   "outputs": [
    {
     "name": "stderr",
     "output_type": "stream",
     "text": [
      "100%|██████████| 10/10 [00:04<00:00,  2.33it/s]\n"
     ]
    }
   ],
   "source": [
    "history = train(net, train__, epoch=10, lr=500, supervised=False)"
   ]
  },
  {
   "cell_type": "code",
   "execution_count": 86,
   "metadata": {},
   "outputs": [
    {
     "data": {
      "text/plain": [
       "torch.Size([3, 6012])"
      ]
     },
     "execution_count": 86,
     "metadata": {},
     "output_type": "execute_result"
    }
   ],
   "source": [
    "history[1][0].shape"
   ]
  },
  {
   "cell_type": "code",
   "execution_count": 87,
   "metadata": {},
   "outputs": [],
   "source": [
    "A = history[0][0]\n",
    "B = history[1][0]"
   ]
  },
  {
   "cell_type": "code",
   "execution_count": 88,
   "metadata": {},
   "outputs": [
    {
     "data": {
      "text/plain": [
       "Parameter containing:\n",
       "tensor([[ 1.8906e-01,  2.0649e+00,  1.4022e-01],\n",
       "        [ 4.3781e-02,  1.3738e+00, -4.4124e-02],\n",
       "        [ 7.3458e-01,  3.9264e+00,  1.7460e-01],\n",
       "        [ 1.4625e+00,  3.1290e-01, -1.4109e-01],\n",
       "        [ 2.7479e-01, -1.4060e-02, -5.9627e-03],\n",
       "        [ 5.1304e-01, -1.7508e-01,  1.2277e+00],\n",
       "        [-1.5518e-01,  3.4888e+00, -2.9647e-01],\n",
       "        [-1.9984e-02, -1.7785e-02,  4.5769e-01],\n",
       "        [ 5.8341e-01,  5.9631e-01,  4.6962e-02],\n",
       "        [ 7.5941e-02, -2.2967e-01,  2.9876e+00],\n",
       "        [ 1.2355e-01,  8.7677e-01,  6.5399e-01],\n",
       "        [ 3.1383e+00, -1.2821e-01, -3.6779e-02],\n",
       "        [ 1.2933e+00,  2.9230e-01,  4.9066e-02],\n",
       "        [ 7.1899e-02, -1.0720e-01,  1.4325e+00],\n",
       "        [ 8.6116e-01,  6.3905e-03, -6.1368e-03],\n",
       "        [ 4.8268e-01, -1.9739e-01,  1.5050e+00],\n",
       "        [ 2.1032e-01, -1.4424e-01,  1.2222e+00],\n",
       "        [ 5.7954e-01,  9.2616e-01, -1.5639e-02],\n",
       "        [ 2.8366e-01,  1.7656e-01,  1.0085e-01],\n",
       "        [ 4.7209e-01,  8.7782e-01,  1.6829e+00],\n",
       "        [ 1.2093e-01, -7.0548e-02,  5.0605e-01],\n",
       "        [ 3.6694e-01, -6.6029e-02,  2.8464e-01],\n",
       "        [ 4.0038e-01,  9.5670e-01, -1.5019e-01],\n",
       "        [ 1.1961e-02, -1.1250e-01,  1.0797e+00],\n",
       "        [ 1.0929e-01, -4.9100e-02,  3.1086e-01],\n",
       "        [ 3.3645e-01, -1.4324e-02, -1.5107e-02],\n",
       "        [ 1.7676e-01,  1.9893e-02,  3.7297e-01],\n",
       "        [ 3.1976e-01, -5.0595e-02,  2.0585e-01],\n",
       "        [ 5.0713e-01,  1.1387e-02,  4.1322e-02],\n",
       "        [ 4.2231e-01, -1.4594e-02,  2.1744e-01],\n",
       "        [ 3.2325e-01, -2.1047e-02,  4.2289e-02],\n",
       "        [ 4.4355e-01, -6.9476e-02,  2.7074e-01],\n",
       "        [ 4.6597e-01, -5.4410e-02,  4.6193e-01],\n",
       "        [ 2.0925e+00, -9.5254e-02,  2.8540e-03],\n",
       "        [ 2.9496e-01,  3.3280e-01,  3.2351e-02],\n",
       "        [ 9.8332e-02, -1.4278e-02,  1.1490e-01],\n",
       "        [ 3.1122e-01, -7.2238e-02,  4.9363e-01],\n",
       "        [ 3.0188e-01, -1.6985e-02, -1.6506e-03],\n",
       "        [ 1.8629e-01, -5.8876e-03,  2.4060e-03],\n",
       "        [ 3.8680e-02, -5.3842e-03,  2.2104e-02],\n",
       "        [ 7.5848e-01, -9.4603e-02,  3.9500e-01],\n",
       "        [ 3.9039e-01,  1.7263e-01,  4.2757e-01],\n",
       "        [ 2.1533e-01, -1.5792e-02,  5.6817e-02],\n",
       "        [ 2.1055e-01, -8.7347e-03, -6.5844e-03],\n",
       "        [ 1.3259e-01, -2.9803e-02,  1.3814e-01],\n",
       "        [ 1.5726e+00, -8.1624e-02,  3.5790e-02],\n",
       "        [ 6.2157e-02, -1.7467e-02,  1.9831e-01],\n",
       "        [ 2.2665e-01, -2.9384e-02,  1.5993e-01],\n",
       "        [ 1.8986e-01, -1.8583e-02,  6.5286e-02],\n",
       "        [ 7.0908e-01, -3.8819e-02,  4.9482e-02],\n",
       "        [ 1.2527e+00, -6.6659e-02,  5.2478e-02],\n",
       "        [ 1.8238e-01,  6.4615e-04,  2.5258e-01],\n",
       "        [ 5.3733e-01, -3.4884e-02,  2.2154e-02],\n",
       "        [ 2.4581e-01, -1.7232e-02,  2.3142e-02],\n",
       "        [ 1.7839e-01, -3.1777e-02,  1.7905e-01],\n",
       "        [ 4.6288e-01, -2.7346e-02,  5.9842e-02],\n",
       "        [ 4.2790e-01, -3.7012e-02,  6.9000e-02],\n",
       "        [ 4.2016e-01, -3.0578e-02,  5.3581e-02],\n",
       "        [ 4.0289e-01, -5.8746e-02,  2.1801e-01],\n",
       "        [ 5.3962e-01, -8.9106e-02,  6.1665e-01],\n",
       "        [ 3.7548e-01,  2.0030e-02,  1.1003e-01],\n",
       "        [ 7.2318e-01, -4.3102e-02,  6.5518e-02],\n",
       "        [ 2.6370e-01, -1.3716e-02, -2.1176e-03],\n",
       "        [ 5.2959e-01, -4.1876e-02,  6.8791e-02],\n",
       "        [ 8.4736e-02, -6.4865e-03,  1.8602e-02],\n",
       "        [ 2.6693e-01, -4.2614e-02,  1.9584e-01],\n",
       "        [ 3.5501e-01, -3.2211e-02,  7.4543e-02],\n",
       "        [ 4.6463e-01, -5.9075e-02,  2.0389e-01],\n",
       "        [ 4.5028e-01, -2.7674e-02,  2.0060e-02],\n",
       "        [ 5.9767e-01,  1.6007e-02,  4.8441e-02],\n",
       "        [ 3.5852e-01, -1.9213e-02,  7.0936e-02],\n",
       "        [ 1.1133e-01, -5.6775e-02,  3.3928e-01],\n",
       "        [ 4.0705e-01, -1.5424e-02,  3.1399e-01],\n",
       "        [ 3.7238e-01, -2.1805e-02,  1.5278e-02],\n",
       "        [ 6.9660e-01, -4.6883e-02,  5.0020e-02],\n",
       "        [ 3.9030e-01, -4.0601e-02,  1.3195e-01],\n",
       "        [ 2.6985e-01, -1.4959e-02, -3.1042e-03],\n",
       "        [ 2.0570e-01, -3.8227e-02,  1.7389e-01],\n",
       "        [ 4.1187e-01, -2.1642e-02,  2.4796e-02],\n",
       "        [ 4.8860e-01, -3.7215e-02,  6.3647e-02],\n",
       "        [ 3.2426e-01, -1.9906e-02,  2.6916e-03]], dtype=torch.float64,\n",
       "       requires_grad=True)"
      ]
     },
     "execution_count": 88,
     "metadata": {},
     "output_type": "execute_result"
    }
   ],
   "source": [
    "A"
   ]
  },
  {
   "cell_type": "code",
   "execution_count": 89,
   "metadata": {},
   "outputs": [
    {
     "data": {
      "text/plain": [
       "tensor([[0., 0., 0.,  ..., 0., 0., 0.],\n",
       "        [0., 0., 0.,  ..., 0., 0., 0.],\n",
       "        [0., 0., 0.,  ..., 0., 0., 0.]], dtype=torch.float64,\n",
       "       grad_fn=<LsqNonnegFBackward>)"
      ]
     },
     "execution_count": 89,
     "metadata": {},
     "output_type": "execute_result"
    }
   ],
   "source": [
    "B"
   ]
  },
  {
   "cell_type": "code",
   "execution_count": 90,
   "metadata": {},
   "outputs": [],
   "source": [
    "A1 = A.detach().numpy()\n",
    "B1 = B.detach().numpy()"
   ]
  },
  {
   "cell_type": "code",
   "execution_count": 91,
   "metadata": {},
   "outputs": [
    {
     "data": {
      "image/png": "[encoded data removed]",
      "text/plain": [
       "<Figure size 640x480 with 2 Axes>"
      ]
     },
     "metadata": {},
     "output_type": "display_data"
    }
   ],
   "source": [
    "plt.imshow(A1, cmap='hot', interpolation='nearest')\n",
    "plt.colorbar()  # Show color scale\n",
    "plt.title('Heat Map of PyTorch Tensor A')\n",
    "plt.show()"
   ]
  },
  {
   "cell_type": "code",
   "execution_count": 92,
   "metadata": {},
   "outputs": [
    {
     "data": {
      "image/png": "[encoded data removed]",
      "text/plain": [
       "<Figure size 640x480 with 2 Axes>"
      ]
     },
     "metadata": {},
     "output_type": "display_data"
    }
   ],
   "source": [
    "plt.imshow(B1[:,100:200], cmap='hot', interpolation='nearest')\n",
    "plt.colorbar()  # Show color scale\n",
    "plt.title('Heat Map of PyTorch Tensor S')\n",
    "plt.show()"
   ]
  },
  {
   "cell_type": "code",
   "execution_count": 93,
   "metadata": {},
   "outputs": [],
   "source": [
    "import numpy as np\n",
    "opto = np.array(opto)"
   ]
  },
  {
   "cell_type": "code",
   "execution_count": 94,
   "metadata": {},
   "outputs": [
    {
     "data": {
      "image/png": "[encoded data removed]",
      "text/plain": [
       "<Figure size 640x480 with 2 Axes>"
      ]
     },
     "metadata": {},
     "output_type": "display_data"
    }
   ],
   "source": [
    "plt.imshow(opto[:,2000:3000], cmap='hot', interpolation='nearest')\n",
    "plt.colorbar()  # Show color scale\n",
    "plt.title('Heat Map of PyTorch Tensor B')\n",
    "plt.show()"
   ]
  },
  {
   "cell_type": "code",
   "execution_count": 95,
   "metadata": {},
   "outputs": [
    {
     "data": {
      "text/plain": [
       "array([[ 1.89060867e-01,  2.06488607e+00,  1.40222297e-01],\n",
       "       [ 4.37807154e-02,  1.37377468e+00, -4.41238606e-02],\n",
       "       [ 7.34578947e-01,  3.92638945e+00,  1.74602064e-01],\n",
       "       [ 1.46246021e+00,  3.12899686e-01, -1.41088203e-01],\n",
       "       [ 2.74785910e-01, -1.40595690e-02, -5.96271717e-03],\n",
       "       [ 5.13038546e-01, -1.75081978e-01,  1.22768247e+00],\n",
       "       [-1.55181258e-01,  3.48875416e+00, -2.96466390e-01],\n",
       "       [-1.99843577e-02, -1.77854803e-02,  4.57685568e-01],\n",
       "       [ 5.83413557e-01,  5.96310171e-01,  4.69618323e-02],\n",
       "       [ 7.59409350e-02, -2.29666204e-01,  2.98759595e+00],\n",
       "       [ 1.23551400e-01,  8.76769366e-01,  6.53990577e-01],\n",
       "       [ 3.13825443e+00, -1.28214749e-01, -3.67788664e-02],\n",
       "       [ 1.29333540e+00,  2.92303261e-01,  4.90658861e-02],\n",
       "       [ 7.18987024e-02, -1.07204194e-01,  1.43247317e+00],\n",
       "       [ 8.61161504e-01,  6.39051861e-03, -6.13677953e-03],\n",
       "       [ 4.82682535e-01, -1.97392643e-01,  1.50495069e+00],\n",
       "       [ 2.10318785e-01, -1.44240178e-01,  1.22215336e+00],\n",
       "       [ 5.79537645e-01,  9.26155383e-01, -1.56394154e-02],\n",
       "       [ 2.83656113e-01,  1.76559708e-01,  1.00850721e-01],\n",
       "       [ 4.72090406e-01,  8.77820340e-01,  1.68294930e+00],\n",
       "       [ 1.20930099e-01, -7.05481757e-02,  5.06053043e-01],\n",
       "       [ 3.66944588e-01, -6.60289739e-02,  2.84641595e-01],\n",
       "       [ 4.00377113e-01,  9.56703544e-01, -1.50194917e-01],\n",
       "       [ 1.19607092e-02, -1.12497380e-01,  1.07973239e+00],\n",
       "       [ 1.09285280e-01, -4.90999420e-02,  3.10858842e-01],\n",
       "       [ 3.36451913e-01, -1.43237431e-02, -1.51072568e-02],\n",
       "       [ 1.76755134e-01,  1.98925243e-02,  3.72968363e-01],\n",
       "       [ 3.19757054e-01, -5.05946880e-02,  2.05854166e-01],\n",
       "       [ 5.07131871e-01,  1.13869682e-02,  4.13219377e-02],\n",
       "       [ 4.22305495e-01, -1.45941840e-02,  2.17436269e-01],\n",
       "       [ 3.23249556e-01, -2.10473592e-02,  4.22892556e-02],\n",
       "       [ 4.43549985e-01, -6.94758636e-02,  2.70742113e-01],\n",
       "       [ 4.65967013e-01, -5.44101998e-02,  4.61928418e-01],\n",
       "       [ 2.09249525e+00, -9.52540029e-02,  2.85402371e-03],\n",
       "       [ 2.94962764e-01,  3.32800023e-01,  3.23513695e-02],\n",
       "       [ 9.83324960e-02, -1.42779627e-02,  1.14902988e-01],\n",
       "       [ 3.11223513e-01, -7.22376431e-02,  4.93634968e-01],\n",
       "       [ 3.01880381e-01, -1.69854689e-02, -1.65064441e-03],\n",
       "       [ 1.86293008e-01, -5.88757474e-03,  2.40604063e-03],\n",
       "       [ 3.86803475e-02, -5.38419078e-03,  2.21036471e-02],\n",
       "       [ 7.58482189e-01, -9.46029981e-02,  3.95000155e-01],\n",
       "       [ 3.90394594e-01,  1.72628878e-01,  4.27574398e-01],\n",
       "       [ 2.15331318e-01, -1.57915669e-02,  5.68173259e-02],\n",
       "       [ 2.10546380e-01, -8.73471362e-03, -6.58444721e-03],\n",
       "       [ 1.32589496e-01, -2.98033155e-02,  1.38142142e-01],\n",
       "       [ 1.57259280e+00, -8.16243226e-02,  3.57901921e-02],\n",
       "       [ 6.21572645e-02, -1.74673029e-02,  1.98314772e-01],\n",
       "       [ 2.26653662e-01, -2.93840347e-02,  1.59926084e-01],\n",
       "       [ 1.89864384e-01, -1.85834059e-02,  6.52861620e-02],\n",
       "       [ 7.09083817e-01, -3.88192301e-02,  4.94818121e-02],\n",
       "       [ 1.25271396e+00, -6.66594737e-02,  5.24782392e-02],\n",
       "       [ 1.82384935e-01,  6.46148218e-04,  2.52575073e-01],\n",
       "       [ 5.37331261e-01, -3.48843822e-02,  2.21544023e-02],\n",
       "       [ 2.45811323e-01, -1.72322817e-02,  2.31419969e-02],\n",
       "       [ 1.78393303e-01, -3.17768876e-02,  1.79051706e-01],\n",
       "       [ 4.62884086e-01, -2.73458426e-02,  5.98422881e-02],\n",
       "       [ 4.27899884e-01, -3.70123463e-02,  6.89999184e-02],\n",
       "       [ 4.20158823e-01, -3.05776268e-02,  5.35814188e-02],\n",
       "       [ 4.02885074e-01, -5.87462013e-02,  2.18006139e-01],\n",
       "       [ 5.39619669e-01, -8.91059161e-02,  6.16649058e-01],\n",
       "       [ 3.75481230e-01,  2.00297954e-02,  1.10028664e-01],\n",
       "       [ 7.23182570e-01, -4.31016141e-02,  6.55178766e-02],\n",
       "       [ 2.63701798e-01, -1.37160065e-02, -2.11757009e-03],\n",
       "       [ 5.29587678e-01, -4.18760810e-02,  6.87908994e-02],\n",
       "       [ 8.47357956e-02, -6.48645728e-03,  1.86023683e-02],\n",
       "       [ 2.66930957e-01, -4.26137368e-02,  1.95842703e-01],\n",
       "       [ 3.55011446e-01, -3.22112670e-02,  7.45426668e-02],\n",
       "       [ 4.64626679e-01, -5.90746807e-02,  2.03892016e-01],\n",
       "       [ 4.50276691e-01, -2.76738763e-02,  2.00602534e-02],\n",
       "       [ 5.97673203e-01,  1.60066562e-02,  4.84406425e-02],\n",
       "       [ 3.58524626e-01, -1.92126493e-02,  7.09356695e-02],\n",
       "       [ 1.11325613e-01, -5.67754553e-02,  3.39284091e-01],\n",
       "       [ 4.07051982e-01, -1.54236746e-02,  3.13988773e-01],\n",
       "       [ 3.72378259e-01, -2.18047316e-02,  1.52778736e-02],\n",
       "       [ 6.96604844e-01, -4.68827404e-02,  5.00198199e-02],\n",
       "       [ 3.90296233e-01, -4.06009672e-02,  1.31952686e-01],\n",
       "       [ 2.69848098e-01, -1.49585016e-02, -3.10424415e-03],\n",
       "       [ 2.05698663e-01, -3.82272637e-02,  1.73891652e-01],\n",
       "       [ 4.11868035e-01, -2.16418110e-02,  2.47955434e-02],\n",
       "       [ 4.88601308e-01, -3.72151149e-02,  6.36466518e-02],\n",
       "       [ 3.24258432e-01, -1.99060634e-02,  2.69164122e-03]])"
      ]
     },
     "execution_count": 95,
     "metadata": {},
     "output_type": "execute_result"
    }
   ],
   "source": [
    "A1"
   ]
  },
  {
   "cell_type": "code",
   "execution_count": 96,
   "metadata": {},
   "outputs": [
    {
     "data": {
      "text/plain": [
       "95"
      ]
     },
     "execution_count": 96,
     "metadata": {},
     "output_type": "execute_result"
    }
   ],
   "source": [
    "count_ones = np.count_nonzero(opto == 1)\n",
    "count_ones"
   ]
  },
  {
   "cell_type": "code",
   "execution_count": 97,
   "metadata": {},
   "outputs": [
    {
     "data": {
      "text/plain": [
       "(1, 6012)"
      ]
     },
     "execution_count": 97,
     "metadata": {},
     "output_type": "execute_result"
    }
   ],
   "source": [
    "opto.shape"
   ]
  },
  {
   "cell_type": "code",
   "execution_count": 98,
   "metadata": {},
   "outputs": [
    {
     "data": {
      "text/plain": [
       "(3, 6012)"
      ]
     },
     "execution_count": 98,
     "metadata": {},
     "output_type": "execute_result"
    }
   ],
   "source": [
    "B1.shape"
   ]
  },
  {
   "cell_type": "code",
   "execution_count": 99,
   "metadata": {},
   "outputs": [],
   "source": [
    "indices = np.where(opto == 1)[1]"
   ]
  },
  {
   "cell_type": "code",
   "execution_count": 100,
   "metadata": {},
   "outputs": [
    {
     "data": {
      "text/plain": [
       "array([3118, 3119, 3120, 3121, 3122, 3123, 3124, 3125, 3126, 3127, 3416,\n",
       "       3417, 3418, 3419, 3420, 3421, 3422, 3423, 3424, 3425, 3714, 3715,\n",
       "       3716, 3717, 3718, 3719, 3720, 3721, 3722, 3723, 4012, 4013, 4014,\n",
       "       4015, 4016, 4017, 4018, 4019, 4020, 4310, 4311, 4312, 4313, 4314,\n",
       "       4315, 4316, 4317, 4318, 4608, 4609, 4610, 4611, 4612, 4613, 4614,\n",
       "       4615, 4616, 4906, 4907, 4908, 4909, 4910, 4911, 4912, 4913, 4914,\n",
       "       5204, 5205, 5206, 5207, 5208, 5209, 5210, 5211, 5212, 5501, 5502,\n",
       "       5503, 5504, 5505, 5506, 5507, 5508, 5509, 5510, 5799, 5800, 5801,\n",
       "       5802, 5803, 5804, 5805, 5806, 5807, 5808], dtype=int64)"
      ]
     },
     "execution_count": 100,
     "metadata": {},
     "output_type": "execute_result"
    }
   ],
   "source": [
    "indices"
   ]
  },
  {
   "cell_type": "code",
   "execution_count": 101,
   "metadata": {},
   "outputs": [],
   "source": [
    "slices = []\n",
    "for idx in indices:\n",
    "    # Ensure we do not go out of bounds\n",
    "    if idx + 20 <= B1.shape[1]:\n",
    "        slices.append(B1[:, idx:idx+20])\n",
    "    else:\n",
    "        slices.append(B1[:, idx:])"
   ]
  },
  {
   "cell_type": "code",
   "execution_count": 102,
   "metadata": {},
   "outputs": [],
   "source": [
    "C = np.hstack(slices) if slices else np.array([])"
   ]
  },
  {
   "cell_type": "code",
   "execution_count": null,
   "metadata": {},
   "outputs": [],
   "source": []
  },
  {
   "cell_type": "code",
   "execution_count": 103,
   "metadata": {},
   "outputs": [
    {
     "data": {
      "text/plain": [
       "(3, 1900)"
      ]
     },
     "execution_count": 103,
     "metadata": {},
     "output_type": "execute_result"
    }
   ],
   "source": [
    "C.shape"
   ]
  },
  {
   "cell_type": "code",
   "execution_count": 104,
   "metadata": {},
   "outputs": [
    {
     "data": {
      "image/png": "[encoded data removed]",
      "text/plain": [
       "<Figure size 640x480 with 2 Axes>"
      ]
     },
     "metadata": {},
     "output_type": "display_data"
    }
   ],
   "source": [
    "plt.imshow(C[:,:100], cmap='hot', interpolation='nearest')\n",
    "plt.colorbar()  # Show color scale\n",
    "plt.title('Heat Map of PyTorch Tensor S')\n",
    "plt.show()"
   ]
  },
  {
   "cell_type": "code",
   "execution_count": 27,
   "metadata": {},
   "outputs": [
    {
     "data": {
      "text/plain": [
       "torch.Size([101, 10])"
      ]
     },
     "execution_count": 27,
     "metadata": {},
     "output_type": "execute_result"
    }
   ],
   "source": [
    "A.shape"
   ]
  },
  {
   "cell_type": "code",
   "execution_count": 28,
   "metadata": {},
   "outputs": [
    {
     "data": {
      "text/plain": [
       "torch.Size([101, 5957])"
      ]
     },
     "execution_count": 28,
     "metadata": {},
     "output_type": "execute_result"
    }
   ],
   "source": [
    "train__.shape"
   ]
  },
  {
   "cell_type": "code",
   "execution_count": 29,
   "metadata": {},
   "outputs": [],
   "source": [
    "slices2 = []\n",
    "for idx in indices:\n",
    "    # Ensure we do not go out of bounds\n",
    "    if idx + 20 <= train__.shape[1]:\n",
    "        slices2.append(train__[:, idx:idx+20])\n",
    "    else:\n",
    "        slices2.append(train__[:, idx:])"
   ]
  },
  {
   "cell_type": "code",
   "execution_count": 30,
   "metadata": {},
   "outputs": [],
   "source": [
    "C1 = np.hstack(slices2) if slices2 else np.array([])"
   ]
  },
  {
   "cell_type": "code",
   "execution_count": 31,
   "metadata": {},
   "outputs": [
    {
     "data": {
      "text/plain": [
       "(101, 1900)"
      ]
     },
     "execution_count": 31,
     "metadata": {},
     "output_type": "execute_result"
    }
   ],
   "source": [
    "C1.shape"
   ]
  },
  {
   "cell_type": "code",
   "execution_count": 32,
   "metadata": {},
   "outputs": [
    {
     "data": {
      "image/png": "[encoded data removed]",
      "text/plain": [
       "<Figure size 640x480 with 2 Axes>"
      ]
     },
     "metadata": {},
     "output_type": "display_data"
    }
   ],
   "source": [
    "plt.imshow(C1[:,200:300], cmap='hot', interpolation='nearest')\n",
    "plt.colorbar()  # Show color scale\n",
    "plt.title('Heat Map of PyTorch Tensor S')\n",
    "plt.show()"
   ]
  },
  {
   "cell_type": "markdown",
   "metadata": {},
   "source": [
    "STOP HERE"
   ]
  },
  {
   "cell_type": "code",
   "execution_count": 189,
   "metadata": {},
   "outputs": [],
   "source": [
    "m1, k2 = 101, 40\n",
    "net1 = Neural_NMF([m1, k2])"
   ]
  },
  {
   "cell_type": "code",
   "execution_count": 190,
   "metadata": {},
   "outputs": [
    {
     "name": "stderr",
     "output_type": "stream",
     "text": [
      "100%|██████████| 10/10 [00:07<00:00,  1.36it/s]\n"
     ]
    }
   ],
   "source": [
    "history1 = train(net1, train__, epoch=10, lr=500, supervised=False)"
   ]
  },
  {
   "cell_type": "code",
   "execution_count": 191,
   "metadata": {},
   "outputs": [],
   "source": [
    "A2 = history1[0][0]\n",
    "B2 = history1[1][0]\n",
    "A3 = A2.detach().numpy()\n",
    "B3 = B2.detach().numpy()"
   ]
  },
  {
   "cell_type": "code",
   "execution_count": 192,
   "metadata": {},
   "outputs": [
    {
     "data": {
      "image/png": "[encoded data removed]",
      "text/plain": [
       "<Figure size 640x480 with 2 Axes>"
      ]
     },
     "metadata": {},
     "output_type": "display_data"
    }
   ],
   "source": [
    "plt.imshow(A3, cmap='hot', interpolation='nearest')\n",
    "plt.colorbar()  # Show color scale\n",
    "plt.title('Heat Map of PyTorch Tensor A')\n",
    "plt.show()"
   ]
  },
  {
   "cell_type": "code",
   "execution_count": 193,
   "metadata": {},
   "outputs": [],
   "source": [
    "Ex = train__[:, indices[0]:indices[0]+40]"
   ]
  },
  {
   "cell_type": "code",
   "execution_count": 194,
   "metadata": {},
   "outputs": [
    {
     "data": {
      "text/plain": [
       "torch.Size([101, 40])"
      ]
     },
     "execution_count": 194,
     "metadata": {},
     "output_type": "execute_result"
    }
   ],
   "source": [
    "Ex.shape"
   ]
  },
  {
   "cell_type": "code",
   "execution_count": 195,
   "metadata": {},
   "outputs": [
    {
     "data": {
      "text/plain": [
       "tensor(71.1596, dtype=torch.float64, grad_fn=<LinalgVectorNormBackward0>)"
      ]
     },
     "execution_count": 195,
     "metadata": {},
     "output_type": "execute_result"
    }
   ],
   "source": [
    "i = 51\n",
    "Ex = train__[:, indices[i]:indices[i]+40]\n",
    "diff = A2 - Ex\n",
    "l2 = torch.norm(diff,p=2)\n",
    "l2\n"
   ]
  },
  {
   "cell_type": "code",
   "execution_count": 196,
   "metadata": {},
   "outputs": [
    {
     "data": {
      "image/png": "[encoded data removed]",
      "text/plain": [
       "<Figure size 640x480 with 2 Axes>"
      ]
     },
     "metadata": {},
     "output_type": "display_data"
    }
   ],
   "source": [
    "plt.imshow(Ex, cmap='hot', interpolation='nearest')\n",
    "plt.colorbar()  # Show color scale\n",
    "plt.title('Heat Map of PyTorch Tensor A')\n",
    "plt.show()"
   ]
  },
  {
   "cell_type": "code",
   "execution_count": 197,
   "metadata": {},
   "outputs": [
    {
     "data": {
      "text/plain": [
       "tensor(63.2942, dtype=torch.float64, grad_fn=<LinalgVectorNormBackward0>)"
      ]
     },
     "execution_count": 197,
     "metadata": {},
     "output_type": "execute_result"
    }
   ],
   "source": [
    "j = 7\n",
    "diff2 = A2 - train__[:,40*j:40*j+40]\n",
    "l2_ = torch.norm(diff2,p=2)\n",
    "l2_"
   ]
  },
  {
   "cell_type": "code",
   "execution_count": 198,
   "metadata": {},
   "outputs": [
    {
     "data": {
      "image/png": "[encoded data removed]",
      "text/plain": [
       "<Figure size 640x480 with 2 Axes>"
      ]
     },
     "metadata": {},
     "output_type": "display_data"
    }
   ],
   "source": [
    "plt.imshow(train__[:,40*j:40*j+40], cmap='hot', interpolation='nearest')\n",
    "plt.colorbar()  # Show color scale\n",
    "plt.title('Heat Map of PyTorch Tensor A')\n",
    "plt.show()"
   ]
  },
  {
   "cell_type": "code",
   "execution_count": null,
   "metadata": {},
   "outputs": [],
   "source": []
  }
 ],
 "metadata": {
  "kernelspec": {
   "display_name": ".venv",
   "language": "python",
   "name": "python3"
  },
  "language_info": {
   "codemirror_mode": {
    "name": "ipython",
    "version": 3
   },
   "file_extension": ".py",
   "mimetype": "text/x-python",
   "name": "python",
   "nbconvert_exporter": "python",
   "pygments_lexer": "ipython3",
   "version": "3.10.6"
  }
 },
 "nbformat": 4,
 "nbformat_minor": 2
}
