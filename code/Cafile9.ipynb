{
 "cells": [
  {
   "cell_type": "code",
   "execution_count": 30,
   "metadata": {},
   "outputs": [
    {
     "name": "stdout",
     "output_type": "stream",
     "text": [
      "[array([[0.00000000e+000, 0.00000000e+000, 0.00000000e+000, ...,\n",
      "         6.42740394e-004, 6.10910320e-004, 5.80656549e-004],\n",
      "        [0.00000000e+000, 0.00000000e+000, 0.00000000e+000, ...,\n",
      "         0.00000000e+000, 0.00000000e+000, 0.00000000e+000],\n",
      "        [9.48571063e-001, 8.94820508e-001, 8.44115714e-001, ...,\n",
      "         3.88815240e-004, 3.66783116e-004, 3.45999437e-004],\n",
      "        ...,\n",
      "        [0.00000000e+000, 0.00000000e+000, 0.00000000e+000, ...,\n",
      "         0.00000000e+000, 0.00000000e+000, 0.00000000e+000],\n",
      "        [0.00000000e+000, 0.00000000e+000, 0.00000000e+000, ...,\n",
      "         5.91954733e-176, 5.09093362e-176, 4.37830863e-176],\n",
      "        [0.00000000e+000, 0.00000000e+000, 0.00000000e+000, ...,\n",
      "         0.00000000e+000, 0.00000000e+000, 0.00000000e+000]])\n",
      " array([[5.51901019e-004, 5.24569533e-004, 4.98591569e-004, ...,\n",
      "         0.00000000e+000, 0.00000000e+000, 0.00000000e+000],\n",
      "        [0.00000000e+000, 0.00000000e+000, 0.00000000e+000, ...,\n",
      "         0.00000000e+000, 0.00000000e+000, 0.00000000e+000],\n",
      "        [3.26393461e-004, 3.07898452e-004, 2.90451459e-004, ...,\n",
      "         0.00000000e+000, 0.00000000e+000, 0.00000000e+000],\n",
      "        ...,\n",
      "        [0.00000000e+000, 0.00000000e+000, 0.00000000e+000, ...,\n",
      "         0.00000000e+000, 0.00000000e+000, 0.00000000e+000],\n",
      "        [3.76543633e-176, 3.23835343e-176, 2.78505119e-176, ...,\n",
      "         0.00000000e+000, 0.00000000e+000, 0.00000000e+000],\n",
      "        [0.00000000e+000, 0.00000000e+000, 0.00000000e+000, ...,\n",
      "         0.00000000e+000, 0.00000000e+000, 0.00000000e+000]])\n",
      " array([[0.00000000e+00, 0.00000000e+00, 0.00000000e+00, ...,\n",
      "         1.18268394e-02, 1.12411454e-02, 1.06844565e-02],\n",
      "        [0.00000000e+00, 0.00000000e+00, 0.00000000e+00, ...,\n",
      "         0.00000000e+00, 0.00000000e+00, 0.00000000e+00],\n",
      "        [0.00000000e+00, 0.00000000e+00, 0.00000000e+00, ...,\n",
      "         0.00000000e+00, 0.00000000e+00, 0.00000000e+00],\n",
      "        ...,\n",
      "        [0.00000000e+00, 0.00000000e+00, 0.00000000e+00, ...,\n",
      "         0.00000000e+00, 0.00000000e+00, 0.00000000e+00],\n",
      "        [0.00000000e+00, 0.00000000e+00, 0.00000000e+00, ...,\n",
      "         0.00000000e+00, 0.00000000e+00, 0.00000000e+00],\n",
      "        [0.00000000e+00, 0.00000000e+00, 0.00000000e+00, ...,\n",
      "         1.83627485e-09, 1.58542348e-09, 1.36884062e-09]])\n",
      " array([[1.01553361e-02, 9.65241906e-03, 9.17440770e-03, ...,\n",
      "         0.00000000e+00, 0.00000000e+00, 0.00000000e+00],\n",
      "        [0.00000000e+00, 0.00000000e+00, 0.00000000e+00, ...,\n",
      "         0.00000000e+00, 0.00000000e+00, 0.00000000e+00],\n",
      "        [0.00000000e+00, 0.00000000e+00, 0.00000000e+00, ...,\n",
      "         0.00000000e+00, 0.00000000e+00, 0.00000000e+00],\n",
      "        ...,\n",
      "        [0.00000000e+00, 0.00000000e+00, 0.00000000e+00, ...,\n",
      "         0.00000000e+00, 0.00000000e+00, 0.00000000e+00],\n",
      "        [0.00000000e+00, 0.00000000e+00, 0.00000000e+00, ...,\n",
      "         0.00000000e+00, 0.00000000e+00, 0.00000000e+00],\n",
      "        [1.18184490e-09, 1.02039444e-09, 8.80999546e-10, ...,\n",
      "         0.00000000e+00, 0.00000000e+00, 0.00000000e+00]])   ]\n"
     ]
    }
   ],
   "source": [
    "import os\n",
    "import tarfile\n",
    "import matplotlib.pyplot as plt\n",
    "import pandas as pd\n",
    "import torch\n",
    "from pathlib import Path\n",
    "from NeuralNMF import train\n",
    "from sklearn.feature_extraction.text import TfidfVectorizer\n",
    "from NeuralNMF import Neural_NMF\n",
    "import pickle\n",
    "import scipy.io\n",
    "import random\n",
    "import numpy as np\n",
    "\n",
    "\n",
    "np.random.seed(0)\n",
    "random.seed(0)\n",
    "torch.manual_seed(0)\n",
    "torch.use_deterministic_algorithms(True)\n",
    "\n",
    "\n",
    "mat_data = scipy.io.loadmat(r\"C:\\Users\\ASUS\\Downloads\\For_Tezuka\\For_Tezuka\\Opto_Data_CLa18.mat\")\n",
    "\n",
    "print(mat_data[\"C\"][0])"
   ]
  },
  {
   "cell_type": "code",
   "execution_count": 60,
   "metadata": {},
   "outputs": [
    {
     "data": {
      "text/plain": [
       "(81, 5959)"
      ]
     },
     "execution_count": 60,
     "metadata": {},
     "output_type": "execute_result"
    }
   ],
   "source": [
    "mat_data[\"S\"][0][1].shape"
   ]
  },
  {
   "cell_type": "code",
   "execution_count": 61,
   "metadata": {},
   "outputs": [],
   "source": [
    "trainS = mat_data[\"S\"][0][1]"
   ]
  },
  {
   "cell_type": "code",
   "execution_count": 62,
   "metadata": {},
   "outputs": [],
   "source": [
    "timeframes = 3"
   ]
  },
  {
   "cell_type": "code",
   "execution_count": 63,
   "metadata": {},
   "outputs": [],
   "source": [
    "trainData = []\n",
    "for i in range(trainS.shape[1]-timeframes+1):\n",
    "    segment = trainS[:,i:i+timeframes]\n",
    "    flatt = segment.flatten(order='F')\n",
    "    trainData.append(flatt)\n",
    "\n",
    "trainMatrix = np.array(trainData).T"
   ]
  },
  {
   "cell_type": "code",
   "execution_count": 64,
   "metadata": {},
   "outputs": [
    {
     "data": {
      "text/plain": [
       "(243, 5957)"
      ]
     },
     "execution_count": 64,
     "metadata": {},
     "output_type": "execute_result"
    }
   ],
   "source": [
    "trainMatrix.shape"
   ]
  },
  {
   "cell_type": "code",
   "execution_count": 65,
   "metadata": {},
   "outputs": [
    {
     "data": {
      "image/png": "[encoded data removed]",
      "text/plain": [
       "<Figure size 640x480 with 2 Axes>"
      ]
     },
     "metadata": {},
     "output_type": "display_data"
    }
   ],
   "source": [
    "plt.imshow(trainMatrix[100:200,900:1000], cmap='hot', interpolation='nearest')\n",
    "plt.colorbar()  # Show color scale\n",
    "plt.title('Heat Map of PyTorch Tensor A')\n",
    "plt.show()"
   ]
  },
  {
   "cell_type": "code",
   "execution_count": 66,
   "metadata": {},
   "outputs": [],
   "source": [
    "train__ = torch.tensor(trainMatrix)"
   ]
  },
  {
   "cell_type": "code",
   "execution_count": 67,
   "metadata": {},
   "outputs": [],
   "source": [
    "m, k1, k2 = 243, 50, 2\n",
    "net = Neural_NMF([m, k1, k2])"
   ]
  },
  {
   "cell_type": "code",
   "execution_count": 68,
   "metadata": {},
   "outputs": [
    {
     "name": "stderr",
     "output_type": "stream",
     "text": [
      "100%|██████████| 10/10 [00:30<00:00,  3.01s/it]\n"
     ]
    }
   ],
   "source": [
    "history = train(net, train__, epoch=10, lr=500, supervised=False)"
   ]
  },
  {
   "cell_type": "code",
   "execution_count": 69,
   "metadata": {},
   "outputs": [],
   "source": [
    "A = history[0][1]\n",
    "S = history[1][1]"
   ]
  },
  {
   "cell_type": "code",
   "execution_count": 89,
   "metadata": {},
   "outputs": [
    {
     "name": "stdout",
     "output_type": "stream",
     "text": [
      "torch.Size([243, 50])     torch.Size([50, 2])\n"
     ]
    }
   ],
   "source": [
    "a1 = history[0][0]\n",
    "a2 = history[0][1]\n",
    "print(a1.shape, \"   \", a2.shape)"
   ]
  },
  {
   "cell_type": "code",
   "execution_count": 91,
   "metadata": {},
   "outputs": [
    {
     "data": {
      "text/plain": [
       "torch.Size([243, 2])"
      ]
     },
     "execution_count": 91,
     "metadata": {},
     "output_type": "execute_result"
    }
   ],
   "source": [
    "a1a2 = torch.matmul(a1,a2)\n",
    "a1a2.shape"
   ]
  },
  {
   "cell_type": "code",
   "execution_count": 95,
   "metadata": {},
   "outputs": [
    {
     "data": {
      "text/plain": [
       "tensor([[13.3494, 11.5953],\n",
       "        [12.1040,  9.7924],\n",
       "        [10.6614,  9.2687],\n",
       "        [11.7002, 10.0485],\n",
       "        [13.1322, 10.4305],\n",
       "        [11.7850,  9.3053],\n",
       "        [12.8662,  9.9332],\n",
       "        [11.1324,  9.7878],\n",
       "        [12.1097, 11.9427],\n",
       "        [11.0529,  8.7313],\n",
       "        [12.9937,  9.5992],\n",
       "        [12.1938, 10.8270],\n",
       "        [11.7838,  8.5712],\n",
       "        [11.7393,  9.8299],\n",
       "        [11.9595,  9.8071],\n",
       "        [10.3362,  8.3385],\n",
       "        [12.1163,  8.8642],\n",
       "        [12.2590, 11.8910],\n",
       "        [ 9.7932,  8.2697],\n",
       "        [11.8760,  8.0637],\n",
       "        [12.1339, 10.1118],\n",
       "        [12.1793,  9.0675],\n",
       "        [11.6132,  9.2300],\n",
       "        [11.9347, 10.5101],\n",
       "        [11.4550,  9.3538],\n",
       "        [10.6640,  8.9134],\n",
       "        [ 8.3665,  7.9282],\n",
       "        [11.4882,  8.7864],\n",
       "        [10.1030,  9.4078],\n",
       "        [10.2023,  7.4793],\n",
       "        [ 9.8651,  8.6569],\n",
       "        [12.5319, 10.4650],\n",
       "        [10.0916,  8.5801],\n",
       "        [13.1543, 10.0373],\n",
       "        [12.8677,  8.5424],\n",
       "        [10.3965,  8.6089],\n",
       "        [ 9.9383,  9.3705],\n",
       "        [ 8.8812,  8.6612],\n",
       "        [11.8756,  9.8162],\n",
       "        [12.7336,  9.6091],\n",
       "        [ 9.1356,  7.6097],\n",
       "        [12.8521, 10.1171],\n",
       "        [13.5779, 10.9960],\n",
       "        [12.7209,  9.7040],\n",
       "        [11.1772,  8.6603],\n",
       "        [10.4115,  8.0513],\n",
       "        [11.4419,  8.8343],\n",
       "        [11.1304,  7.9963],\n",
       "        [12.4692, 11.5867],\n",
       "        [12.7315, 10.2180],\n",
       "        [10.4634,  9.6049],\n",
       "        [12.2766,  9.9514],\n",
       "        [10.7999,  8.8650],\n",
       "        [11.4228, 10.1679],\n",
       "        [10.2906,  8.9105],\n",
       "        [10.0392,  8.5686],\n",
       "        [13.1575, 10.0016],\n",
       "        [12.3692, 10.0738],\n",
       "        [10.3383,  8.4260],\n",
       "        [11.5609, 10.8128],\n",
       "        [ 9.7214,  8.5943],\n",
       "        [11.9829,  9.9340],\n",
       "        [11.6232,  8.6785],\n",
       "        [12.4388,  9.2027],\n",
       "        [10.8974,  8.0952],\n",
       "        [ 9.7934,  7.7383],\n",
       "        [10.7427,  8.0111],\n",
       "        [10.4579,  9.3324],\n",
       "        [10.7604,  8.2309],\n",
       "        [11.1745, 10.1770],\n",
       "        [10.5293,  9.4662],\n",
       "        [12.0742,  9.5625],\n",
       "        [11.9896, 10.3696],\n",
       "        [11.2695,  9.8251],\n",
       "        [12.3292,  8.7509],\n",
       "        [10.0984,  9.0000],\n",
       "        [11.8390,  9.9359],\n",
       "        [ 8.9007,  8.8029],\n",
       "        [ 9.7360,  7.5942],\n",
       "        [10.6597,  9.4141],\n",
       "        [10.1723,  9.1437],\n",
       "        [13.1919, 10.6771],\n",
       "        [12.6577,  9.7742],\n",
       "        [11.9418,  9.2162],\n",
       "        [11.3356,  8.5834],\n",
       "        [11.3195, 10.6437],\n",
       "        [12.8212,  9.2486],\n",
       "        [11.2624,  9.4021],\n",
       "        [10.8431,  8.6003],\n",
       "        [12.7532, 10.5327],\n",
       "        [11.3584,  7.6632],\n",
       "        [12.0972, 10.0534],\n",
       "        [12.3380,  9.2835],\n",
       "        [12.4715,  9.5272],\n",
       "        [11.4893,  9.8903],\n",
       "        [10.2464,  8.8827],\n",
       "        [ 9.9924,  8.6195],\n",
       "        [13.0626,  9.3724],\n",
       "        [12.1826, 10.0124],\n",
       "        [12.0989,  8.6103],\n",
       "        [13.3489,  9.9483],\n",
       "        [12.3821,  8.9764],\n",
       "        [11.1158,  8.3306],\n",
       "        [11.0260,  9.2656],\n",
       "        [12.2718, 10.1242],\n",
       "        [10.1841,  8.7227],\n",
       "        [11.3976,  7.8753],\n",
       "        [11.4804, 10.3339],\n",
       "        [11.2994,  9.9157],\n",
       "        [12.7444, 10.4401],\n",
       "        [13.2462,  8.7405],\n",
       "        [12.1641, 10.6673],\n",
       "        [11.6383,  8.5862],\n",
       "        [ 9.0092,  7.5434],\n",
       "        [10.6530,  8.0965],\n",
       "        [11.1155, 10.0035],\n",
       "        [12.3350,  8.6647],\n",
       "        [11.1337,  8.7536],\n",
       "        [11.6697,  9.6758],\n",
       "        [10.3897,  9.2197],\n",
       "        [11.2849,  9.0568],\n",
       "        [13.8610, 10.3229],\n",
       "        [ 9.2870,  7.2070],\n",
       "        [14.3476, 10.5351],\n",
       "        [12.3975,  9.9531],\n",
       "        [ 9.4030,  8.0167],\n",
       "        [11.2476,  7.9897],\n",
       "        [10.9809,  8.0838],\n",
       "        [11.3394,  9.0277],\n",
       "        [11.1654,  9.3455],\n",
       "        [10.6600,  7.3643],\n",
       "        [ 9.4681,  8.7865],\n",
       "        [ 9.5213,  7.5770],\n",
       "        [12.4249, 10.2435],\n",
       "        [11.1249,  9.1606],\n",
       "        [10.4843, 10.0832],\n",
       "        [11.3566, 10.1735],\n",
       "        [12.4296, 10.0994],\n",
       "        [12.0914,  9.5190],\n",
       "        [10.5805,  8.0959],\n",
       "        [10.8542,  8.5972],\n",
       "        [13.4947,  9.7237],\n",
       "        [10.6209,  8.1655],\n",
       "        [ 9.1237,  6.9897],\n",
       "        [11.3401,  8.4043],\n",
       "        [11.4696,  9.5722],\n",
       "        [12.3284, 10.1168],\n",
       "        [12.8560,  9.5098],\n",
       "        [11.3141, 10.0941],\n",
       "        [13.0735,  9.1042],\n",
       "        [12.7011,  9.5936],\n",
       "        [12.4590,  9.0472],\n",
       "        [12.8897, 10.2102],\n",
       "        [ 8.9573,  9.0641],\n",
       "        [11.4993,  9.6828],\n",
       "        [12.8524,  9.6457],\n",
       "        [12.6985, 10.3953],\n",
       "        [ 9.9979,  9.1436],\n",
       "        [10.2582,  8.6498],\n",
       "        [ 8.8864,  7.3821],\n",
       "        [10.6792,  9.2010],\n",
       "        [12.0398,  9.9083],\n",
       "        [13.4879, 11.8371],\n",
       "        [13.8577,  9.9124],\n",
       "        [ 9.1959,  8.4271],\n",
       "        [12.0793,  9.8526],\n",
       "        [11.4278,  9.9273],\n",
       "        [10.8717,  9.0444],\n",
       "        [11.5154, 10.3944],\n",
       "        [11.7854,  9.4102],\n",
       "        [11.4727,  8.6890],\n",
       "        [13.0145, 10.3770],\n",
       "        [12.1708, 10.3902],\n",
       "        [ 9.1300,  6.8923],\n",
       "        [10.4008,  9.7394],\n",
       "        [11.7093,  8.5531],\n",
       "        [11.2613,  9.1537],\n",
       "        [12.6315, 10.5338],\n",
       "        [11.4202,  9.4450],\n",
       "        [12.0352,  9.0735],\n",
       "        [12.7751, 10.7631],\n",
       "        [13.8786,  8.9663],\n",
       "        [12.4443, 10.8249],\n",
       "        [13.1013, 11.4763],\n",
       "        [10.7577,  9.4378],\n",
       "        [12.1519,  9.7383],\n",
       "        [11.8195,  9.0189],\n",
       "        [ 8.2200,  7.5200],\n",
       "        [12.4426,  9.9902],\n",
       "        [ 9.5933,  8.5860],\n",
       "        [10.6045,  8.2707],\n",
       "        [11.1576,  8.1252],\n",
       "        [12.7106,  8.9652],\n",
       "        [11.9643,  9.8564],\n",
       "        [11.2494,  9.1686],\n",
       "        [13.3351, 10.3310],\n",
       "        [10.4938,  8.7897],\n",
       "        [12.8324, 10.0097],\n",
       "        [10.6562,  8.7530],\n",
       "        [14.5432, 10.7413],\n",
       "        [10.1726,  9.8031],\n",
       "        [13.0154, 10.6687],\n",
       "        [11.9461,  9.7918],\n",
       "        [10.6009,  7.7482],\n",
       "        [10.9373,  8.6925],\n",
       "        [11.3920,  7.1917],\n",
       "        [ 9.5720,  6.8801],\n",
       "        [10.7280,  8.0878],\n",
       "        [ 9.9314,  7.3144],\n",
       "        [10.6860,  9.7991],\n",
       "        [12.0847,  7.9704],\n",
       "        [ 9.5115,  7.1165],\n",
       "        [ 9.5947,  7.5390],\n",
       "        [11.0478,  9.5910],\n",
       "        [ 9.7260,  6.3760],\n",
       "        [12.2431,  9.3464],\n",
       "        [12.9993,  9.0995],\n",
       "        [12.4262,  9.6985],\n",
       "        [12.2782,  8.6717],\n",
       "        [ 9.0061,  7.6280],\n",
       "        [10.0466,  8.4463],\n",
       "        [11.7440,  9.6356],\n",
       "        [10.5808,  8.7664],\n",
       "        [13.6406, 10.4016],\n",
       "        [11.3420,  8.0677],\n",
       "        [11.9842,  8.8140],\n",
       "        [12.8891,  9.8993],\n",
       "        [10.2684,  9.1775],\n",
       "        [11.9497,  8.3513],\n",
       "        [ 9.9522,  8.9250],\n",
       "        [10.2586,  8.5136],\n",
       "        [12.0432,  8.2070],\n",
       "        [12.2194, 10.2347],\n",
       "        [12.6881,  9.2442],\n",
       "        [10.8849,  9.3864],\n",
       "        [13.5244, 10.2225],\n",
       "        [10.9648,  7.4374],\n",
       "        [12.1545,  8.5738],\n",
       "        [11.3442,  9.5500],\n",
       "        [13.3239,  9.3069],\n",
       "        [ 9.7717,  8.4185],\n",
       "        [10.6325,  8.6073],\n",
       "        [13.7943, 10.1812]], dtype=torch.float64, grad_fn=<MmBackward0>)"
      ]
     },
     "execution_count": 95,
     "metadata": {},
     "output_type": "execute_result"
    }
   ],
   "source": [
    "a1a2"
   ]
  },
  {
   "cell_type": "code",
   "execution_count": 97,
   "metadata": {},
   "outputs": [
    {
     "data": {
      "text/plain": [
       "torch.Size([243])"
      ]
     },
     "execution_count": 97,
     "metadata": {},
     "output_type": "execute_result"
    }
   ],
   "source": [
    "a12_ = a1a2[:,0]\n",
    "a12_.shape"
   ]
  },
  {
   "cell_type": "code",
   "execution_count": 99,
   "metadata": {},
   "outputs": [],
   "source": [
    "o,p,n = a12_[:81],a12_[81:162],a12_[162:243]"
   ]
  },
  {
   "cell_type": "code",
   "execution_count": 103,
   "metadata": {},
   "outputs": [],
   "source": [
    "o,p,n = o.reshape(-1,1),p.reshape(-1,1),n.reshape(-1,1)"
   ]
  },
  {
   "cell_type": "code",
   "execution_count": 104,
   "metadata": {},
   "outputs": [],
   "source": [
    "result_matrix = torch.cat((o, p, n), dim=1)"
   ]
  },
  {
   "cell_type": "code",
   "execution_count": 108,
   "metadata": {},
   "outputs": [
    {
     "data": {
      "image/png": "[encoded data removed]",
      "text/plain": [
       "<Figure size 640x480 with 2 Axes>"
      ]
     },
     "metadata": {},
     "output_type": "display_data"
    }
   ],
   "source": [
    "plt.imshow(result_matrix.detach().numpy(), cmap='hot', interpolation='nearest')\n",
    "plt.colorbar()  # Show color scale\n",
    "plt.title('Heat Map of PyTorch Tensor S')\n",
    "plt.show()"
   ]
  },
  {
   "cell_type": "code",
   "execution_count": 70,
   "metadata": {},
   "outputs": [
    {
     "name": "stdout",
     "output_type": "stream",
     "text": [
      "torch.Size([50, 2])      torch.Size([2, 5957])\n"
     ]
    }
   ],
   "source": [
    "print(A.shape, \"    \", S.shape)"
   ]
  },
  {
   "cell_type": "code",
   "execution_count": 71,
   "metadata": {},
   "outputs": [],
   "source": [
    "A1 = A.detach().numpy()\n",
    "S1 = S.detach().numpy()"
   ]
  },
  {
   "cell_type": "code",
   "execution_count": 72,
   "metadata": {},
   "outputs": [
    {
     "data": {
      "image/png": "[encoded data removed]",
      "text/plain": [
       "<Figure size 640x480 with 2 Axes>"
      ]
     },
     "metadata": {},
     "output_type": "display_data"
    }
   ],
   "source": [
    "i = 0\n",
    "plt.imshow(S1[:,i:i+40], cmap='hot', interpolation='nearest')\n",
    "plt.colorbar()  # Show color scale\n",
    "plt.title('Heat Map of PyTorch Tensor S')\n",
    "plt.show()"
   ]
  },
  {
   "cell_type": "code",
   "execution_count": 73,
   "metadata": {},
   "outputs": [
    {
     "data": {
      "image/png": "[encoded data removed]",
      "text/plain": [
       "<Figure size 640x480 with 2 Axes>"
      ]
     },
     "metadata": {},
     "output_type": "display_data"
    }
   ],
   "source": [
    "i = 60\n",
    "plt.imshow(A1[:,:], cmap='hot', interpolation='nearest')\n",
    "plt.colorbar()  # Show color scale\n",
    "plt.title('Heat Map of PyTorch Tensor A')\n",
    "plt.show()"
   ]
  },
  {
   "cell_type": "code",
   "execution_count": 74,
   "metadata": {},
   "outputs": [
    {
     "data": {
      "text/plain": [
       "array([[0, 0, 0, ..., 0, 0, 0]], dtype=uint8)"
      ]
     },
     "execution_count": 74,
     "metadata": {},
     "output_type": "execute_result"
    }
   ],
   "source": [
    "opto = mat_data[\"opt\"][0][0]\n",
    "opto"
   ]
  },
  {
   "cell_type": "code",
   "execution_count": 75,
   "metadata": {},
   "outputs": [
    {
     "data": {
      "text/plain": [
       "95"
      ]
     },
     "execution_count": 75,
     "metadata": {},
     "output_type": "execute_result"
    }
   ],
   "source": [
    "count_ones = np.count_nonzero(opto == 1)\n",
    "count_ones"
   ]
  },
  {
   "cell_type": "code",
   "execution_count": 76,
   "metadata": {},
   "outputs": [
    {
     "data": {
      "text/plain": [
       "(1, 6012)"
      ]
     },
     "execution_count": 76,
     "metadata": {},
     "output_type": "execute_result"
    }
   ],
   "source": [
    "opto.shape"
   ]
  },
  {
   "cell_type": "code",
   "execution_count": 77,
   "metadata": {},
   "outputs": [],
   "source": [
    "indices = np.where(opto == 1)[1]"
   ]
  },
  {
   "cell_type": "code",
   "execution_count": 78,
   "metadata": {},
   "outputs": [
    {
     "data": {
      "text/plain": [
       "array([3118, 3119, 3120, 3121, 3122, 3123, 3124, 3125, 3126, 3127, 3416,\n",
       "       3417, 3418, 3419, 3420, 3421, 3422, 3423, 3424, 3425, 3714, 3715,\n",
       "       3716, 3717, 3718, 3719, 3720, 3721, 3722, 3723, 4012, 4013, 4014,\n",
       "       4015, 4016, 4017, 4018, 4019, 4020, 4310, 4311, 4312, 4313, 4314,\n",
       "       4315, 4316, 4317, 4318, 4608, 4609, 4610, 4611, 4612, 4613, 4614,\n",
       "       4615, 4616, 4906, 4907, 4908, 4909, 4910, 4911, 4912, 4913, 4914,\n",
       "       5204, 5205, 5206, 5207, 5208, 5209, 5210, 5211, 5212, 5501, 5502,\n",
       "       5503, 5504, 5505, 5506, 5507, 5508, 5509, 5510, 5799, 5800, 5801,\n",
       "       5802, 5803, 5804, 5805, 5806, 5807, 5808], dtype=int64)"
      ]
     },
     "execution_count": 78,
     "metadata": {},
     "output_type": "execute_result"
    }
   ],
   "source": [
    "indices"
   ]
  },
  {
   "cell_type": "code",
   "execution_count": 80,
   "metadata": {},
   "outputs": [],
   "source": [
    "slices = []\n",
    "for idx in indices:\n",
    "    # Ensure we do not go out of bounds\n",
    "    if idx + 20 <= S1.shape[1]:\n",
    "        slices.append(S1[:, idx:idx+20])\n",
    "    else:\n",
    "        slices.append(S1[:, idx:])"
   ]
  },
  {
   "cell_type": "code",
   "execution_count": 81,
   "metadata": {},
   "outputs": [],
   "source": [
    "C = np.hstack(slices) if slices else np.array([])"
   ]
  },
  {
   "cell_type": "code",
   "execution_count": 82,
   "metadata": {},
   "outputs": [
    {
     "data": {
      "text/plain": [
       "(2, 1900)"
      ]
     },
     "execution_count": 82,
     "metadata": {},
     "output_type": "execute_result"
    }
   ],
   "source": [
    "C.shape"
   ]
  },
  {
   "cell_type": "code",
   "execution_count": 85,
   "metadata": {},
   "outputs": [
    {
     "data": {
      "image/png": "[encoded data removed]",
      "text/plain": [
       "<Figure size 640x480 with 2 Axes>"
      ]
     },
     "metadata": {},
     "output_type": "display_data"
    }
   ],
   "source": [
    "plt.imshow(C[:,:100], cmap='hot', interpolation='nearest')\n",
    "plt.colorbar()  # Show color scale\n",
    "plt.title('Heat Map of PyTorch Tensor S')\n",
    "plt.show()"
   ]
  },
  {
   "cell_type": "code",
   "execution_count": null,
   "metadata": {},
   "outputs": [],
   "source": [
    "import time\n",
    "from IPython.display import display, clear_output\n",
    "j = 200\n",
    "for i in range(j,j+200,10):\n",
    "    plt.figure()\n",
    "    plt.imshow(C[:,i:i+60], cmap='hot', interpolation='nearest')\n",
    "    plt.colorbar()  # Show color scale\n",
    "    plt.title('Heat Map of PyTorch Tensor S')\n",
    "    display(plt.gcf())\n",
    "    time.sleep(1)\n",
    "    clear_output(wait=True)\n"
   ]
  },
  {
   "cell_type": "code",
   "execution_count": 29,
   "metadata": {},
   "outputs": [
    {
     "data": {
      "image/png": "[encoded data removed]",
      "text/plain": [
       "<Figure size 640x480 with 2 Axes>"
      ]
     },
     "metadata": {},
     "output_type": "display_data"
    }
   ],
   "source": [
    "import matplotlib.animation as animation\n",
    "from PIL import Image\n",
    "\n",
    "\n",
    "fig, ax = plt.subplots()\n",
    "\n",
    "# Create an initial heatmap\n",
    "heatmap = ax.imshow(C[:, 0:60], cmap='hot', interpolation='nearest')\n",
    "\n",
    "# Add colorbar\n",
    "cbar = plt.colorbar(heatmap)\n",
    "\n",
    "# Update function for animation\n",
    "def update(frame):\n",
    "    ax.clear()\n",
    "    heatmap = ax.imshow(C[:, frame:frame+60], cmap='hot', interpolation='nearest')\n",
    "    plt.title('Heat Map of PyTorch Tensor S')\n",
    "    return heatmap,\n",
    "\n",
    "# Create an animation\n",
    "ani = animation.FuncAnimation(fig, update, frames=range(0, 200, 10), blit=True)\n",
    "\n",
    "# Save the animation as a GIF\n",
    "ani.save('heat_map_animation3.gif', writer='pillow', fps=1)\n",
    "\n",
    "plt.show()"
   ]
  }
 ],
 "metadata": {
  "kernelspec": {
   "display_name": ".venv",
   "language": "python",
   "name": "python3"
  },
  "language_info": {
   "codemirror_mode": {
    "name": "ipython",
    "version": 3
   },
   "file_extension": ".py",
   "mimetype": "text/x-python",
   "name": "python",
   "nbconvert_exporter": "python",
   "pygments_lexer": "ipython3",
   "version": "3.10.6"
  }
 },
 "nbformat": 4,
 "nbformat_minor": 2
}
