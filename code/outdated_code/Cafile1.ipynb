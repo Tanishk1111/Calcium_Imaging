{
 "cells": [
  {
   "cell_type": "markdown",
   "metadata": {},
   "source": [
    "ONE LAYER"
   ]
  },
  {
   "cell_type": "code",
   "execution_count": 1,
   "metadata": {},
   "outputs": [
    {
     "name": "stdout",
     "output_type": "stream",
     "text": [
      "[array([[0.00000000e+000, 0.00000000e+000, 0.00000000e+000, ...,\n",
      "         6.42740394e-004, 6.10910320e-004, 5.80656549e-004],\n",
      "        [0.00000000e+000, 0.00000000e+000, 0.00000000e+000, ...,\n",
      "         0.00000000e+000, 0.00000000e+000, 0.00000000e+000],\n",
      "        [9.48571063e-001, 8.94820508e-001, 8.44115714e-001, ...,\n",
      "         3.88815240e-004, 3.66783116e-004, 3.45999437e-004],\n",
      "        ...,\n",
      "        [0.00000000e+000, 0.00000000e+000, 0.00000000e+000, ...,\n",
      "         0.00000000e+000, 0.00000000e+000, 0.00000000e+000],\n",
      "        [0.00000000e+000, 0.00000000e+000, 0.00000000e+000, ...,\n",
      "         5.91954733e-176, 5.09093362e-176, 4.37830863e-176],\n",
      "        [0.00000000e+000, 0.00000000e+000, 0.00000000e+000, ...,\n",
      "         0.00000000e+000, 0.00000000e+000, 0.00000000e+000]])\n",
      " array([[5.51901019e-004, 5.24569533e-004, 4.98591569e-004, ...,\n",
      "         0.00000000e+000, 0.00000000e+000, 0.00000000e+000],\n",
      "        [0.00000000e+000, 0.00000000e+000, 0.00000000e+000, ...,\n",
      "         0.00000000e+000, 0.00000000e+000, 0.00000000e+000],\n",
      "        [3.26393461e-004, 3.07898452e-004, 2.90451459e-004, ...,\n",
      "         0.00000000e+000, 0.00000000e+000, 0.00000000e+000],\n",
      "        ...,\n",
      "        [0.00000000e+000, 0.00000000e+000, 0.00000000e+000, ...,\n",
      "         0.00000000e+000, 0.00000000e+000, 0.00000000e+000],\n",
      "        [3.76543633e-176, 3.23835343e-176, 2.78505119e-176, ...,\n",
      "         0.00000000e+000, 0.00000000e+000, 0.00000000e+000],\n",
      "        [0.00000000e+000, 0.00000000e+000, 0.00000000e+000, ...,\n",
      "         0.00000000e+000, 0.00000000e+000, 0.00000000e+000]])\n",
      " array([[0.00000000e+00, 0.00000000e+00, 0.00000000e+00, ...,\n",
      "         1.18268394e-02, 1.12411454e-02, 1.06844565e-02],\n",
      "        [0.00000000e+00, 0.00000000e+00, 0.00000000e+00, ...,\n",
      "         0.00000000e+00, 0.00000000e+00, 0.00000000e+00],\n",
      "        [0.00000000e+00, 0.00000000e+00, 0.00000000e+00, ...,\n",
      "         0.00000000e+00, 0.00000000e+00, 0.00000000e+00],\n",
      "        ...,\n",
      "        [0.00000000e+00, 0.00000000e+00, 0.00000000e+00, ...,\n",
      "         0.00000000e+00, 0.00000000e+00, 0.00000000e+00],\n",
      "        [0.00000000e+00, 0.00000000e+00, 0.00000000e+00, ...,\n",
      "         0.00000000e+00, 0.00000000e+00, 0.00000000e+00],\n",
      "        [0.00000000e+00, 0.00000000e+00, 0.00000000e+00, ...,\n",
      "         1.83627485e-09, 1.58542348e-09, 1.36884062e-09]])\n",
      " array([[1.01553361e-02, 9.65241906e-03, 9.17440770e-03, ...,\n",
      "         0.00000000e+00, 0.00000000e+00, 0.00000000e+00],\n",
      "        [0.00000000e+00, 0.00000000e+00, 0.00000000e+00, ...,\n",
      "         0.00000000e+00, 0.00000000e+00, 0.00000000e+00],\n",
      "        [0.00000000e+00, 0.00000000e+00, 0.00000000e+00, ...,\n",
      "         0.00000000e+00, 0.00000000e+00, 0.00000000e+00],\n",
      "        ...,\n",
      "        [0.00000000e+00, 0.00000000e+00, 0.00000000e+00, ...,\n",
      "         0.00000000e+00, 0.00000000e+00, 0.00000000e+00],\n",
      "        [0.00000000e+00, 0.00000000e+00, 0.00000000e+00, ...,\n",
      "         0.00000000e+00, 0.00000000e+00, 0.00000000e+00],\n",
      "        [1.18184490e-09, 1.02039444e-09, 8.80999546e-10, ...,\n",
      "         0.00000000e+00, 0.00000000e+00, 0.00000000e+00]])   ]\n"
     ]
    }
   ],
   "source": [
    "import os\n",
    "import tarfile\n",
    "import matplotlib.pyplot as plt\n",
    "import pandas as pd\n",
    "import torch\n",
    "from pathlib import Path\n",
    "from NeuralNMF import train\n",
    "from sklearn.feature_extraction.text import TfidfVectorizer\n",
    "from NeuralNMF import Neural_NMF\n",
    "import pickle\n",
    "import scipy.io\n",
    "import random\n",
    "import numpy as np\n",
    "\n",
    "\n",
    "np.random.seed(0)\n",
    "random.seed(0)\n",
    "torch.manual_seed(0)\n",
    "torch.use_deterministic_algorithms(True)\n",
    "\n",
    "\n",
    "mat_data = scipy.io.loadmat(r\"C:\\Users\\ASUS\\Downloads\\For_Tezuka\\For_Tezuka\\Opto_Data_CLa18.mat\")\n",
    "\n",
    "print(mat_data[\"C\"][0])\n",
    "\n"
   ]
  },
  {
   "cell_type": "code",
   "execution_count": 2,
   "metadata": {},
   "outputs": [
    {
     "name": "stdout",
     "output_type": "stream",
     "text": [
      "c:\\Users\\ASUS\\Downloads\\repo\\code\\.venv\\lib\\site-packages\\NeuralNMF\\__init__.py\n"
     ]
    }
   ],
   "source": [
    "import NeuralNMF\n",
    "print(NeuralNMF.__file__)"
   ]
  },
  {
   "cell_type": "code",
   "execution_count": 4,
   "metadata": {},
   "outputs": [
    {
     "data": {
      "text/plain": [
       "(81, 6012)"
      ]
     },
     "execution_count": 4,
     "metadata": {},
     "output_type": "execute_result"
    }
   ],
   "source": [
    "mat_data[\"S\"][0][0].shape"
   ]
  },
  {
   "cell_type": "code",
   "execution_count": 5,
   "metadata": {},
   "outputs": [],
   "source": [
    "train__ = mat_data[\"S\"][0][0]\n",
    "\n",
    "train__ = torch.tensor(train__)"
   ]
  },
  {
   "cell_type": "code",
   "execution_count": 6,
   "metadata": {},
   "outputs": [],
   "source": [
    "opto = mat_data[\"opt\"][0][0]"
   ]
  },
  {
   "cell_type": "code",
   "execution_count": 7,
   "metadata": {},
   "outputs": [
    {
     "data": {
      "text/plain": [
       "array([[0, 0, 0, ..., 0, 0, 0]], dtype=uint8)"
      ]
     },
     "execution_count": 7,
     "metadata": {},
     "output_type": "execute_result"
    }
   ],
   "source": [
    "opto"
   ]
  },
  {
   "cell_type": "code",
   "execution_count": 8,
   "metadata": {},
   "outputs": [],
   "source": [
    "m, k1 = 81, 3\n",
    "net = Neural_NMF([m, k1])"
   ]
  },
  {
   "cell_type": "code",
   "execution_count": 9,
   "metadata": {},
   "outputs": [
    {
     "name": "stderr",
     "output_type": "stream",
     "text": [
      "  0%|          | 0/10 [00:00<?, ?it/s]"
     ]
    },
    {
     "name": "stderr",
     "output_type": "stream",
     "text": [
      "100%|██████████| 10/10 [00:08<00:00,  1.22it/s]\n"
     ]
    }
   ],
   "source": [
    "history = train(net, train__, epoch=10, lr=500, supervised=False)"
   ]
  },
  {
   "cell_type": "code",
   "execution_count": 10,
   "metadata": {},
   "outputs": [
    {
     "data": {
      "text/plain": [
       "torch.Size([3, 6012])"
      ]
     },
     "execution_count": 10,
     "metadata": {},
     "output_type": "execute_result"
    }
   ],
   "source": [
    "history[1][0].shape"
   ]
  },
  {
   "cell_type": "code",
   "execution_count": 11,
   "metadata": {},
   "outputs": [],
   "source": [
    "A = history[0][0]\n",
    "B = history[1][0]"
   ]
  },
  {
   "cell_type": "code",
   "execution_count": 12,
   "metadata": {},
   "outputs": [
    {
     "data": {
      "text/plain": [
       "Parameter containing:\n",
       "tensor([[2.0680e+00, 0.0000e+00, 3.2406e-01],\n",
       "        [1.2664e+00, 1.7404e-01, 2.1862e-01],\n",
       "        [3.9302e+00, 0.0000e+00, 5.1608e-01],\n",
       "        [0.0000e+00, 4.1063e+00, 0.0000e+00],\n",
       "        [0.0000e+00, 3.7009e-02, 9.4040e-02],\n",
       "        [0.0000e+00, 1.6443e-01, 7.7927e-02],\n",
       "        [3.0694e+00, 4.0472e-01, 2.4568e-01],\n",
       "        [4.0816e-02, 3.3307e-02, 1.5862e-01],\n",
       "        [4.6104e-01, 3.4962e-01, 4.6173e-01],\n",
       "        [4.4298e-02, 6.0841e-01, 3.1152e-02],\n",
       "        [9.8397e-01, 1.6082e-01, 0.0000e+00],\n",
       "        [0.0000e+00, 0.0000e+00, 2.6016e+00],\n",
       "        [2.7571e-01, 0.0000e+00, 1.0118e+00],\n",
       "        [4.8133e-02, 2.4421e-01, 0.0000e+00],\n",
       "        [2.5287e-02, 5.6587e-02, 2.3918e-01],\n",
       "        [0.0000e+00, 3.9332e-01, 1.4025e-01],\n",
       "        [0.0000e+00, 2.8132e-01, 2.0227e-01],\n",
       "        [3.8132e-01, 8.4423e-02, 2.8213e+00],\n",
       "        [1.9532e-01, 0.0000e+00, 1.5247e-01],\n",
       "        [1.2454e+00, 0.0000e+00, 1.4714e-01],\n",
       "        [1.2371e-02, 0.0000e+00, 5.7001e-02],\n",
       "        [2.3738e-03, 4.1694e-02, 9.4954e-03],\n",
       "        [7.1528e-02, 3.6991e+00, 9.5165e-02],\n",
       "        [0.0000e+00, 2.8437e-01, 7.2565e-01],\n",
       "        [0.0000e+00, 1.2839e-01, 4.1932e-03],\n",
       "        [0.0000e+00, 9.4040e-03, 2.8211e-02],\n",
       "        [7.3703e-02, 2.0056e-02, 1.4266e-01],\n",
       "        [0.0000e+00, 3.7452e-02, 2.8762e-02],\n",
       "        [3.5768e-02, 2.3423e-02, 1.2340e-01],\n",
       "        [2.8068e-02, 9.4752e-02, 2.6692e-02],\n",
       "        [0.0000e+00, 6.1166e-02, 2.0406e-01],\n",
       "        [0.0000e+00, 8.3428e-02, 2.5212e-02],\n",
       "        [0.0000e+00, 0.0000e+00, 1.7862e+00],\n",
       "        [0.0000e+00, 0.0000e+00, 1.9791e+00],\n",
       "        [3.2506e-01, 1.0180e-01, 6.0194e-02],\n",
       "        [0.0000e+00, 2.4054e-02, 3.7768e-01],\n",
       "        [0.0000e+00, 1.1820e-02, 5.1139e-01],\n",
       "        [0.0000e+00, 3.4641e-02, 3.2390e-02],\n",
       "        [0.0000e+00, 0.0000e+00, 1.6171e-01],\n",
       "        [0.0000e+00, 5.2860e-02, 4.6357e-02],\n",
       "        [0.0000e+00, 1.4520e-01, 2.0107e-01],\n",
       "        [2.2373e-01, 0.0000e+00, 4.5634e-01],\n",
       "        [0.0000e+00, 5.1100e-02, 9.0584e-02],\n",
       "        [0.0000e+00, 6.1259e-02, 1.1428e-02],\n",
       "        [0.0000e+00, 5.8890e-02, 1.3349e-01],\n",
       "        [0.0000e+00, 0.0000e+00, 9.5275e-01],\n",
       "        [0.0000e+00, 1.1504e-01, 5.8689e-04],\n",
       "        [0.0000e+00, 5.2045e-02, 1.3250e-01],\n",
       "        [0.0000e+00, 4.7008e-02, 7.5437e-02],\n",
       "        [0.0000e+00, 1.6574e-01, 2.6788e-01],\n",
       "        [0.0000e+00, 1.6029e-01, 5.3289e-01],\n",
       "        [0.0000e+00, 1.2351e-01, 6.4794e-01],\n",
       "        [0.0000e+00, 2.1816e-02, 2.2329e-01],\n",
       "        [0.0000e+00, 3.5345e-03, 2.8573e-01],\n",
       "        [0.0000e+00, 1.0144e-02, 1.9841e-01],\n",
       "        [2.2716e-03, 7.8385e-02, 2.3707e-02],\n",
       "        [0.0000e+00, 3.4940e-02, 9.1062e-03],\n",
       "        [0.0000e+00, 3.4077e-02, 2.7911e-01],\n",
       "        [0.0000e+00, 6.2162e-02, 7.3037e-02],\n",
       "        [1.0145e-02, 1.3756e-01, 1.5967e-02],\n",
       "        [3.7988e-02, 1.1073e-01, 7.7091e-03],\n",
       "        [0.0000e+00, 1.5913e-02, 2.0866e-01],\n",
       "        [0.0000e+00, 0.0000e+00, 4.0120e-02],\n",
       "        [0.0000e+00, 2.3451e-02, 1.5895e-01],\n",
       "        [0.0000e+00, 0.0000e+00, 1.3025e-01],\n",
       "        [0.0000e+00, 7.1199e-02, 2.5451e-01],\n",
       "        [0.0000e+00, 3.6720e-02, 9.9766e-02],\n",
       "        [0.0000e+00, 4.9505e-02, 1.9392e-01],\n",
       "        [0.0000e+00, 5.1353e-02, 8.0397e-02],\n",
       "        [0.0000e+00, 8.2306e-01, 3.6110e-02],\n",
       "        [0.0000e+00, 4.6160e-02, 3.5844e-01],\n",
       "        [0.0000e+00, 3.1623e-02, 4.9246e-02],\n",
       "        [1.3467e-02, 1.3794e-02, 4.9148e-01],\n",
       "        [3.9560e-03, 0.0000e+00, 2.1118e-02],\n",
       "        [0.0000e+00, 4.5448e-02, 3.3654e-02],\n",
       "        [0.0000e+00, 1.0195e-01, 5.9388e-02],\n",
       "        [0.0000e+00, 6.2677e-02, 0.0000e+00],\n",
       "        [0.0000e+00, 6.6893e-03, 1.2318e-01],\n",
       "        [0.0000e+00, 4.7714e-02, 8.5900e-02],\n",
       "        [0.0000e+00, 3.3025e-02, 2.0985e-01],\n",
       "        [0.0000e+00, 4.3182e-02, 1.2326e-01]], dtype=torch.float64,\n",
       "       requires_grad=True)"
      ]
     },
     "execution_count": 12,
     "metadata": {},
     "output_type": "execute_result"
    }
   ],
   "source": [
    "A"
   ]
  },
  {
   "cell_type": "code",
   "execution_count": 13,
   "metadata": {},
   "outputs": [
    {
     "data": {
      "text/plain": [
       "tensor([[0., 0., 0.,  ..., 0., 0., 0.],\n",
       "        [0., 0., 0.,  ..., 0., 0., 0.],\n",
       "        [0., 0., 0.,  ..., 0., 0., 0.]], dtype=torch.float64,\n",
       "       grad_fn=<LsqNonnegFBackward>)"
      ]
     },
     "execution_count": 13,
     "metadata": {},
     "output_type": "execute_result"
    }
   ],
   "source": [
    "B"
   ]
  },
  {
   "cell_type": "code",
   "execution_count": 14,
   "metadata": {},
   "outputs": [],
   "source": [
    "A1 = A.detach().numpy()\n",
    "B1 = B.detach().numpy()"
   ]
  },
  {
   "cell_type": "code",
   "execution_count": 15,
   "metadata": {},
   "outputs": [
    {
     "data": {
      "image/png": "[encoded data removed]",
      "text/plain": [
       "<Figure size 640x480 with 2 Axes>"
      ]
     },
     "metadata": {},
     "output_type": "display_data"
    }
   ],
   "source": [
    "plt.imshow(A1, cmap='hot', interpolation='nearest')\n",
    "plt.colorbar()  # Show color scale\n",
    "plt.title('Heat Map of PyTorch Tensor A')\n",
    "plt.show()"
   ]
  },
  {
   "cell_type": "code",
   "execution_count": 16,
   "metadata": {},
   "outputs": [
    {
     "data": {
      "image/png": "[encoded data removed]",
      "text/plain": [
       "<Figure size 640x480 with 2 Axes>"
      ]
     },
     "metadata": {},
     "output_type": "display_data"
    }
   ],
   "source": [
    "plt.imshow(B1[:,100:200], cmap='hot', interpolation='nearest')\n",
    "plt.colorbar()  # Show color scale\n",
    "plt.title('Heat Map of PyTorch Tensor S')\n",
    "plt.show()"
   ]
  },
  {
   "cell_type": "code",
   "execution_count": 17,
   "metadata": {},
   "outputs": [],
   "source": [
    "import numpy as np\n",
    "opto = np.array(opto)"
   ]
  },
  {
   "cell_type": "code",
   "execution_count": 18,
   "metadata": {},
   "outputs": [
    {
     "data": {
      "image/png": "[encoded data removed]",
      "text/plain": [
       "<Figure size 640x480 with 2 Axes>"
      ]
     },
     "metadata": {},
     "output_type": "display_data"
    }
   ],
   "source": [
    "plt.imshow(opto[:,2000:3000], cmap='hot', interpolation='nearest')\n",
    "plt.colorbar()  # Show color scale\n",
    "plt.title('Heat Map of PyTorch Tensor B')\n",
    "plt.show()"
   ]
  },
  {
   "cell_type": "code",
   "execution_count": 19,
   "metadata": {},
   "outputs": [
    {
     "data": {
      "text/plain": [
       "array([[2.06797134e+00, 0.00000000e+00, 3.24060202e-01],\n",
       "       [1.26638809e+00, 1.74041136e-01, 2.18615774e-01],\n",
       "       [3.93020039e+00, 0.00000000e+00, 5.16082145e-01],\n",
       "       [0.00000000e+00, 4.10628578e+00, 0.00000000e+00],\n",
       "       [0.00000000e+00, 3.70092973e-02, 9.40403844e-02],\n",
       "       [0.00000000e+00, 1.64434110e-01, 7.79274533e-02],\n",
       "       [3.06944002e+00, 4.04722091e-01, 2.45678658e-01],\n",
       "       [4.08155915e-02, 3.33072507e-02, 1.58619223e-01],\n",
       "       [4.61036920e-01, 3.49623786e-01, 4.61734655e-01],\n",
       "       [4.42978341e-02, 6.08409928e-01, 3.11516717e-02],\n",
       "       [9.83974013e-01, 1.60818703e-01, 0.00000000e+00],\n",
       "       [0.00000000e+00, 0.00000000e+00, 2.60156357e+00],\n",
       "       [2.75709257e-01, 0.00000000e+00, 1.01181046e+00],\n",
       "       [4.81327643e-02, 2.44205085e-01, 0.00000000e+00],\n",
       "       [2.52872584e-02, 5.65866898e-02, 2.39180449e-01],\n",
       "       [0.00000000e+00, 3.93317647e-01, 1.40245915e-01],\n",
       "       [0.00000000e+00, 2.81320562e-01, 2.02274638e-01],\n",
       "       [3.81323765e-01, 8.44234880e-02, 2.82134195e+00],\n",
       "       [1.95319518e-01, 0.00000000e+00, 1.52470019e-01],\n",
       "       [1.24535773e+00, 0.00000000e+00, 1.47141201e-01],\n",
       "       [1.23709884e-02, 0.00000000e+00, 5.70007956e-02],\n",
       "       [2.37382763e-03, 4.16944153e-02, 9.49538901e-03],\n",
       "       [7.15284724e-02, 3.69911161e+00, 9.51645234e-02],\n",
       "       [0.00000000e+00, 2.84370955e-01, 7.25650080e-01],\n",
       "       [0.00000000e+00, 1.28391027e-01, 4.19319513e-03],\n",
       "       [0.00000000e+00, 9.40395650e-03, 2.82110447e-02],\n",
       "       [7.37030080e-02, 2.00562613e-02, 1.42656454e-01],\n",
       "       [0.00000000e+00, 3.74522891e-02, 2.87620657e-02],\n",
       "       [3.57678315e-02, 2.34229290e-02, 1.23404436e-01],\n",
       "       [2.80678135e-02, 9.47518319e-02, 2.66918443e-02],\n",
       "       [0.00000000e+00, 6.11663347e-02, 2.04063293e-01],\n",
       "       [0.00000000e+00, 8.34276953e-02, 2.52119410e-02],\n",
       "       [0.00000000e+00, 0.00000000e+00, 1.78618632e+00],\n",
       "       [0.00000000e+00, 0.00000000e+00, 1.97909332e+00],\n",
       "       [3.25064280e-01, 1.01801004e-01, 6.01936808e-02],\n",
       "       [0.00000000e+00, 2.40543901e-02, 3.77683520e-01],\n",
       "       [0.00000000e+00, 1.18203039e-02, 5.11388617e-01],\n",
       "       [0.00000000e+00, 3.46411613e-02, 3.23902888e-02],\n",
       "       [0.00000000e+00, 0.00000000e+00, 1.61711595e-01],\n",
       "       [0.00000000e+00, 5.28596568e-02, 4.63565139e-02],\n",
       "       [0.00000000e+00, 1.45200431e-01, 2.01072462e-01],\n",
       "       [2.23725807e-01, 0.00000000e+00, 4.56338803e-01],\n",
       "       [0.00000000e+00, 5.10998837e-02, 9.05841577e-02],\n",
       "       [0.00000000e+00, 6.12592067e-02, 1.14284761e-02],\n",
       "       [0.00000000e+00, 5.88895589e-02, 1.33489379e-01],\n",
       "       [0.00000000e+00, 0.00000000e+00, 9.52752068e-01],\n",
       "       [0.00000000e+00, 1.15041081e-01, 5.86890642e-04],\n",
       "       [0.00000000e+00, 5.20445723e-02, 1.32503475e-01],\n",
       "       [0.00000000e+00, 4.70082987e-02, 7.54368717e-02],\n",
       "       [0.00000000e+00, 1.65742444e-01, 2.67880562e-01],\n",
       "       [0.00000000e+00, 1.60289264e-01, 5.32885954e-01],\n",
       "       [0.00000000e+00, 1.23507994e-01, 6.47936453e-01],\n",
       "       [0.00000000e+00, 2.18158981e-02, 2.23290011e-01],\n",
       "       [0.00000000e+00, 3.53448100e-03, 2.85732171e-01],\n",
       "       [0.00000000e+00, 1.01443928e-02, 1.98412062e-01],\n",
       "       [2.27160792e-03, 7.83850787e-02, 2.37070533e-02],\n",
       "       [0.00000000e+00, 3.49403807e-02, 9.10624417e-03],\n",
       "       [0.00000000e+00, 3.40767968e-02, 2.79109433e-01],\n",
       "       [0.00000000e+00, 6.21623111e-02, 7.30370067e-02],\n",
       "       [1.01448673e-02, 1.37558269e-01, 1.59667053e-02],\n",
       "       [3.79883291e-02, 1.10731895e-01, 7.70912680e-03],\n",
       "       [0.00000000e+00, 1.59133370e-02, 2.08659910e-01],\n",
       "       [0.00000000e+00, 0.00000000e+00, 4.01200456e-02],\n",
       "       [0.00000000e+00, 2.34514870e-02, 1.58953276e-01],\n",
       "       [0.00000000e+00, 0.00000000e+00, 1.30252117e-01],\n",
       "       [0.00000000e+00, 7.11987865e-02, 2.54505613e-01],\n",
       "       [0.00000000e+00, 3.67203463e-02, 9.97663587e-02],\n",
       "       [0.00000000e+00, 4.95051691e-02, 1.93918187e-01],\n",
       "       [0.00000000e+00, 5.13534299e-02, 8.03970875e-02],\n",
       "       [0.00000000e+00, 8.23062507e-01, 3.61101121e-02],\n",
       "       [0.00000000e+00, 4.61600197e-02, 3.58438812e-01],\n",
       "       [0.00000000e+00, 3.16234917e-02, 4.92459348e-02],\n",
       "       [1.34667672e-02, 1.37935043e-02, 4.91479528e-01],\n",
       "       [3.95599450e-03, 0.00000000e+00, 2.11177405e-02],\n",
       "       [0.00000000e+00, 4.54477679e-02, 3.36542645e-02],\n",
       "       [0.00000000e+00, 1.01949243e-01, 5.93880291e-02],\n",
       "       [0.00000000e+00, 6.26769096e-02, 0.00000000e+00],\n",
       "       [0.00000000e+00, 6.68925775e-03, 1.23181975e-01],\n",
       "       [0.00000000e+00, 4.77144901e-02, 8.59002746e-02],\n",
       "       [0.00000000e+00, 3.30246991e-02, 2.09854542e-01],\n",
       "       [0.00000000e+00, 4.31823293e-02, 1.23259558e-01]])"
      ]
     },
     "execution_count": 19,
     "metadata": {},
     "output_type": "execute_result"
    }
   ],
   "source": [
    "A1"
   ]
  },
  {
   "cell_type": "code",
   "execution_count": 20,
   "metadata": {},
   "outputs": [
    {
     "data": {
      "text/plain": [
       "95"
      ]
     },
     "execution_count": 20,
     "metadata": {},
     "output_type": "execute_result"
    }
   ],
   "source": [
    "count_ones = np.count_nonzero(opto == 1)\n",
    "count_ones"
   ]
  },
  {
   "cell_type": "code",
   "execution_count": 21,
   "metadata": {},
   "outputs": [
    {
     "data": {
      "text/plain": [
       "(1, 6012)"
      ]
     },
     "execution_count": 21,
     "metadata": {},
     "output_type": "execute_result"
    }
   ],
   "source": [
    "opto.shape"
   ]
  },
  {
   "cell_type": "code",
   "execution_count": 22,
   "metadata": {},
   "outputs": [
    {
     "data": {
      "text/plain": [
       "(3, 6012)"
      ]
     },
     "execution_count": 22,
     "metadata": {},
     "output_type": "execute_result"
    }
   ],
   "source": [
    "B1.shape"
   ]
  },
  {
   "cell_type": "code",
   "execution_count": 23,
   "metadata": {},
   "outputs": [],
   "source": [
    "indices = np.where(opto == 1)[1]"
   ]
  },
  {
   "cell_type": "code",
   "execution_count": 24,
   "metadata": {},
   "outputs": [
    {
     "data": {
      "text/plain": [
       "array([3118, 3119, 3120, 3121, 3122, 3123, 3124, 3125, 3126, 3127, 3416,\n",
       "       3417, 3418, 3419, 3420, 3421, 3422, 3423, 3424, 3425, 3714, 3715,\n",
       "       3716, 3717, 3718, 3719, 3720, 3721, 3722, 3723, 4012, 4013, 4014,\n",
       "       4015, 4016, 4017, 4018, 4019, 4020, 4310, 4311, 4312, 4313, 4314,\n",
       "       4315, 4316, 4317, 4318, 4608, 4609, 4610, 4611, 4612, 4613, 4614,\n",
       "       4615, 4616, 4906, 4907, 4908, 4909, 4910, 4911, 4912, 4913, 4914,\n",
       "       5204, 5205, 5206, 5207, 5208, 5209, 5210, 5211, 5212, 5501, 5502,\n",
       "       5503, 5504, 5505, 5506, 5507, 5508, 5509, 5510, 5799, 5800, 5801,\n",
       "       5802, 5803, 5804, 5805, 5806, 5807, 5808], dtype=int64)"
      ]
     },
     "execution_count": 24,
     "metadata": {},
     "output_type": "execute_result"
    }
   ],
   "source": [
    "indices"
   ]
  },
  {
   "cell_type": "code",
   "execution_count": 25,
   "metadata": {},
   "outputs": [],
   "source": [
    "slices = []\n",
    "for idx in indices:\n",
    "    # Ensure we do not go out of bounds\n",
    "    if idx + 20 <= B1.shape[1]:\n",
    "        slices.append(B1[:, idx:idx+20])\n",
    "    else:\n",
    "        slices.append(B1[:, idx:])"
   ]
  },
  {
   "cell_type": "code",
   "execution_count": 26,
   "metadata": {},
   "outputs": [],
   "source": [
    "C = np.hstack(slices) if slices else np.array([])"
   ]
  },
  {
   "cell_type": "code",
   "execution_count": null,
   "metadata": {},
   "outputs": [],
   "source": []
  },
  {
   "cell_type": "code",
   "execution_count": 27,
   "metadata": {},
   "outputs": [
    {
     "data": {
      "text/plain": [
       "(3, 1900)"
      ]
     },
     "execution_count": 27,
     "metadata": {},
     "output_type": "execute_result"
    }
   ],
   "source": [
    "C.shape"
   ]
  },
  {
   "cell_type": "code",
   "execution_count": 28,
   "metadata": {},
   "outputs": [
    {
     "data": {
      "image/png": "[encoded data removed]",
      "text/plain": [
       "<Figure size 640x480 with 2 Axes>"
      ]
     },
     "metadata": {},
     "output_type": "display_data"
    }
   ],
   "source": [
    "plt.imshow(C[:,:100], cmap='hot', interpolation='nearest')\n",
    "plt.colorbar()  # Show color scale\n",
    "plt.title('Heat Map of PyTorch Tensor S')\n",
    "plt.show()"
   ]
  },
  {
   "cell_type": "code",
   "execution_count": 29,
   "metadata": {},
   "outputs": [
    {
     "data": {
      "text/plain": [
       "torch.Size([81, 3])"
      ]
     },
     "execution_count": 29,
     "metadata": {},
     "output_type": "execute_result"
    }
   ],
   "source": [
    "A.shape"
   ]
  },
  {
   "cell_type": "code",
   "execution_count": 30,
   "metadata": {},
   "outputs": [
    {
     "data": {
      "text/plain": [
       "torch.Size([81, 6012])"
      ]
     },
     "execution_count": 30,
     "metadata": {},
     "output_type": "execute_result"
    }
   ],
   "source": [
    "train__.shape"
   ]
  },
  {
   "cell_type": "code",
   "execution_count": 31,
   "metadata": {},
   "outputs": [],
   "source": [
    "slices2 = []\n",
    "for idx in indices:\n",
    "    # Ensure we do not go out of bounds\n",
    "    if idx + 20 <= train__.shape[1]:\n",
    "        slices2.append(train__[:, idx:idx+20])\n",
    "    else:\n",
    "        slices2.append(train__[:, idx:])"
   ]
  },
  {
   "cell_type": "code",
   "execution_count": 32,
   "metadata": {},
   "outputs": [],
   "source": [
    "C1 = np.hstack(slices2) if slices2 else np.array([])"
   ]
  },
  {
   "cell_type": "code",
   "execution_count": 33,
   "metadata": {},
   "outputs": [
    {
     "data": {
      "text/plain": [
       "(81, 1900)"
      ]
     },
     "execution_count": 33,
     "metadata": {},
     "output_type": "execute_result"
    }
   ],
   "source": [
    "C1.shape"
   ]
  },
  {
   "cell_type": "code",
   "execution_count": 34,
   "metadata": {},
   "outputs": [
    {
     "data": {
      "image/png": "[encoded data removed]",
      "text/plain": [
       "<Figure size 640x480 with 2 Axes>"
      ]
     },
     "metadata": {},
     "output_type": "display_data"
    }
   ],
   "source": [
    "plt.imshow(C1[:,200:300], cmap='hot', interpolation='nearest')\n",
    "plt.colorbar()  # Show color scale\n",
    "plt.title('Heat Map of PyTorch Tensor S')\n",
    "plt.show()"
   ]
  },
  {
   "cell_type": "markdown",
   "metadata": {},
   "source": [
    "STOP HERE"
   ]
  },
  {
   "cell_type": "code",
   "execution_count": 189,
   "metadata": {},
   "outputs": [],
   "source": [
    "m1, k2 = 101, 40\n",
    "net1 = Neural_NMF([m1, k2])"
   ]
  },
  {
   "cell_type": "code",
   "execution_count": 190,
   "metadata": {},
   "outputs": [
    {
     "name": "stderr",
     "output_type": "stream",
     "text": [
      "100%|██████████| 10/10 [00:07<00:00,  1.36it/s]\n"
     ]
    }
   ],
   "source": [
    "history1 = train(net1, train__, epoch=10, lr=500, supervised=False)"
   ]
  },
  {
   "cell_type": "code",
   "execution_count": 191,
   "metadata": {},
   "outputs": [],
   "source": [
    "A2 = history1[0][0]\n",
    "B2 = history1[1][0]\n",
    "A3 = A2.detach().numpy()\n",
    "B3 = B2.detach().numpy()"
   ]
  },
  {
   "cell_type": "code",
   "execution_count": 192,
   "metadata": {},
   "outputs": [
    {
     "data": {
      "image/png": "[encoded data removed]",
      "text/plain": [
       "<Figure size 640x480 with 2 Axes>"
      ]
     },
     "metadata": {},
     "output_type": "display_data"
    }
   ],
   "source": [
    "plt.imshow(A3, cmap='hot', interpolation='nearest')\n",
    "plt.colorbar()  # Show color scale\n",
    "plt.title('Heat Map of PyTorch Tensor A')\n",
    "plt.show()"
   ]
  },
  {
   "cell_type": "code",
   "execution_count": 193,
   "metadata": {},
   "outputs": [],
   "source": [
    "Ex = train__[:, indices[0]:indices[0]+40]"
   ]
  },
  {
   "cell_type": "code",
   "execution_count": 194,
   "metadata": {},
   "outputs": [
    {
     "data": {
      "text/plain": [
       "torch.Size([101, 40])"
      ]
     },
     "execution_count": 194,
     "metadata": {},
     "output_type": "execute_result"
    }
   ],
   "source": [
    "Ex.shape"
   ]
  },
  {
   "cell_type": "code",
   "execution_count": 195,
   "metadata": {},
   "outputs": [
    {
     "data": {
      "text/plain": [
       "tensor(71.1596, dtype=torch.float64, grad_fn=<LinalgVectorNormBackward0>)"
      ]
     },
     "execution_count": 195,
     "metadata": {},
     "output_type": "execute_result"
    }
   ],
   "source": [
    "i = 51\n",
    "Ex = train__[:, indices[i]:indices[i]+40]\n",
    "diff = A2 - Ex\n",
    "l2 = torch.norm(diff,p=2)\n",
    "l2\n"
   ]
  },
  {
   "cell_type": "code",
   "execution_count": 196,
   "metadata": {},
   "outputs": [
    {
     "data": {
      "image/png": "[encoded data removed]",
      "text/plain": [
       "<Figure size 640x480 with 2 Axes>"
      ]
     },
     "metadata": {},
     "output_type": "display_data"
    }
   ],
   "source": [
    "plt.imshow(Ex, cmap='hot', interpolation='nearest')\n",
    "plt.colorbar()  # Show color scale\n",
    "plt.title('Heat Map of PyTorch Tensor A')\n",
    "plt.show()"
   ]
  },
  {
   "cell_type": "code",
   "execution_count": 197,
   "metadata": {},
   "outputs": [
    {
     "data": {
      "text/plain": [
       "tensor(63.2942, dtype=torch.float64, grad_fn=<LinalgVectorNormBackward0>)"
      ]
     },
     "execution_count": 197,
     "metadata": {},
     "output_type": "execute_result"
    }
   ],
   "source": [
    "j = 7\n",
    "diff2 = A2 - train__[:,40*j:40*j+40]\n",
    "l2_ = torch.norm(diff2,p=2)\n",
    "l2_"
   ]
  },
  {
   "cell_type": "code",
   "execution_count": 198,
   "metadata": {},
   "outputs": [
    {
     "data": {
      "image/png": "[encoded data removed]",
      "text/plain": [
       "<Figure size 640x480 with 2 Axes>"
      ]
     },
     "metadata": {},
     "output_type": "display_data"
    }
   ],
   "source": [
    "plt.imshow(train__[:,40*j:40*j+40], cmap='hot', interpolation='nearest')\n",
    "plt.colorbar()  # Show color scale\n",
    "plt.title('Heat Map of PyTorch Tensor A')\n",
    "plt.show()"
   ]
  },
  {
   "cell_type": "code",
   "execution_count": null,
   "metadata": {},
   "outputs": [],
   "source": []
  }
 ],
 "metadata": {
  "kernelspec": {
   "display_name": ".venv",
   "language": "python",
   "name": "python3"
  },
  "language_info": {
   "codemirror_mode": {
    "name": "ipython",
    "version": 3
   },
   "file_extension": ".py",
   "mimetype": "text/x-python",
   "name": "python",
   "nbconvert_exporter": "python",
   "pygments_lexer": "ipython3",
   "version": "3.10.6"
  }
 },
 "nbformat": 4,
 "nbformat_minor": 2
}
