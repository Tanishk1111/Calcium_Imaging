{
 "cells": [
  {
   "cell_type": "markdown",
   "metadata": {},
   "source": [
    "TWO LAYERS"
   ]
  },
  {
   "cell_type": "code",
   "execution_count": 4,
   "metadata": {},
   "outputs": [],
   "source": [
    "import os\n",
    "import tarfile\n",
    "import matplotlib.pyplot as plt\n",
    "import pandas as pd\n",
    "import torch\n",
    "from pathlib import Path\n",
    "from NeuralNMF import train\n",
    "from sklearn.feature_extraction.text import TfidfVectorizer\n",
    "from NeuralNMF import Neural_NMF\n",
    "import pickle\n",
    "import scipy.io\n",
    "import random\n",
    "import numpy as np\n",
    "from sklearn.decomposition import NMF\n",
    "from sklearn.cluster import KMeans\n",
    "from sklearn.ensemble import RandomForestClassifier\n",
    "from sklearn.model_selection import train_test_split\n",
    "from sklearn.metrics import classification_report\n",
    "\n",
    "np.random.seed(0)\n",
    "random.seed(0)\n",
    "torch.manual_seed(0)\n",
    "torch.use_deterministic_algorithms(True)\n",
    "\n",
    "\n",
    "\n",
    "mat_data = scipy.io.loadmat(r\"C:\\Users\\ASUS\\Downloads\\For_Tezuka\\For_Tezuka\\Opto_Data_CLa13.mat\")"
   ]
  },
  {
   "cell_type": "code",
   "execution_count": 5,
   "metadata": {},
   "outputs": [],
   "source": [
    "train__ = mat_data[\"S\"][0][0]\n",
    "\n",
    "train__ = torch.tensor(train__)"
   ]
  },
  {
   "cell_type": "code",
   "execution_count": 6,
   "metadata": {},
   "outputs": [],
   "source": [
    "opto = mat_data[\"opt\"][0][0]"
   ]
  },
  {
   "cell_type": "code",
   "execution_count": 7,
   "metadata": {},
   "outputs": [],
   "source": [
    "m, k1, k2 = 101, 50, 5\n",
    "net = Neural_NMF([m, k1, k2])"
   ]
  },
  {
   "cell_type": "code",
   "execution_count": 8,
   "metadata": {},
   "outputs": [
    {
     "name": "stderr",
     "output_type": "stream",
     "text": [
      "100%|██████████| 20/20 [00:26<00:00,  1.35s/it]\n"
     ]
    }
   ],
   "source": [
    "history = train(net, train__, epoch=20, lr=500, supervised=False)"
   ]
  },
  {
   "cell_type": "code",
   "execution_count": 9,
   "metadata": {},
   "outputs": [
    {
     "data": {
      "text/plain": [
       "torch.Size([5, 5957])"
      ]
     },
     "execution_count": 9,
     "metadata": {},
     "output_type": "execute_result"
    }
   ],
   "source": [
    "history[1][1].shape"
   ]
  },
  {
   "cell_type": "code",
   "execution_count": 10,
   "metadata": {},
   "outputs": [],
   "source": [
    "A = history[0][1]\n",
    "S = history[1][1]"
   ]
  },
  {
   "cell_type": "code",
   "execution_count": 12,
   "metadata": {},
   "outputs": [],
   "source": [
    "A1 = A.detach().numpy()\n",
    "S1 = S.detach().numpy()"
   ]
  },
  {
   "cell_type": "code",
   "execution_count": 27,
   "metadata": {},
   "outputs": [],
   "source": [
    "indices = np.where(opto == 1)[1]"
   ]
  },
  {
   "cell_type": "code",
   "execution_count": 28,
   "metadata": {},
   "outputs": [
    {
     "data": {
      "text/plain": [
       "array([3118, 3119, 3120, 3121, 3122, 3123, 3124, 3125, 3126, 3416, 3417,\n",
       "       3418, 3419, 3420, 3421, 3422, 3423, 3424, 3713, 3714, 3715, 3716,\n",
       "       3717, 3718, 3719, 3720, 3721, 3722, 4011, 4012, 4013, 4014, 4015,\n",
       "       4016, 4017, 4018, 4019, 4020, 4309, 4310, 4311, 4312, 4313, 4314,\n",
       "       4315, 4316, 4317, 4318, 4607, 4608, 4609, 4610, 4611, 4612, 4613,\n",
       "       4614, 4615, 4905, 4906, 4907, 4908, 4909, 4910, 4911, 4912, 4913,\n",
       "       5203, 5204, 5205, 5206, 5207, 5208, 5209, 5210, 5211, 5500, 5501,\n",
       "       5502, 5503, 5504, 5505, 5506, 5507, 5508, 5509, 5798, 5799, 5800,\n",
       "       5801, 5802, 5803, 5804, 5805, 5806, 5807], dtype=int64)"
      ]
     },
     "execution_count": 28,
     "metadata": {},
     "output_type": "execute_result"
    }
   ],
   "source": [
    "indices"
   ]
  },
  {
   "cell_type": "code",
   "execution_count": 30,
   "metadata": {},
   "outputs": [],
   "source": [
    "slices = []\n",
    "for idx in indices:\n",
    "    # Ensure we do not go out of bounds\n",
    "    if idx + 20 <= S1.shape[1]:\n",
    "        slices.append(S1[:, idx:idx+20])\n",
    "    else:\n",
    "        slices.append(S1[:, idx:])"
   ]
  },
  {
   "cell_type": "code",
   "execution_count": 31,
   "metadata": {},
   "outputs": [],
   "source": [
    "C = np.hstack(slices) if slices else np.array([])"
   ]
  },
  {
   "cell_type": "code",
   "execution_count": 32,
   "metadata": {},
   "outputs": [
    {
     "data": {
      "text/plain": [
       "(5, 1900)"
      ]
     },
     "execution_count": 32,
     "metadata": {},
     "output_type": "execute_result"
    }
   ],
   "source": [
    "C.shape"
   ]
  },
  {
   "cell_type": "code",
   "execution_count": 49,
   "metadata": {},
   "outputs": [
    {
     "data": {
      "image/png": "[encoded data removed]",
      "text/plain": [
       "<Figure size 640x480 with 2 Axes>"
      ]
     },
     "metadata": {},
     "output_type": "display_data"
    }
   ],
   "source": [
    "plt.imshow(C[:,-100:], cmap='hot', interpolation='nearest')\n",
    "plt.colorbar()  # Show color scale\n",
    "plt.title('Heat Map of PyTorch Tensor S')\n",
    "plt.show()"
   ]
  },
  {
   "cell_type": "code",
   "execution_count": 38,
   "metadata": {},
   "outputs": [],
   "source": [
    "flattened_data = [matrix.flatten() for matrix in slices]"
   ]
  },
  {
   "cell_type": "code",
   "execution_count": 43,
   "metadata": {},
   "outputs": [],
   "source": [
    "Xt = np.array(flattened_data)"
   ]
  },
  {
   "cell_type": "code",
   "execution_count": 44,
   "metadata": {},
   "outputs": [
    {
     "data": {
      "text/plain": [
       "(95, 100)"
      ]
     },
     "execution_count": 44,
     "metadata": {},
     "output_type": "execute_result"
    }
   ],
   "source": [
    "Xt.shape"
   ]
  },
  {
   "cell_type": "code",
   "execution_count": 45,
   "metadata": {},
   "outputs": [],
   "source": [
    "kmeans = KMeans(n_clusters=5, random_state=0)\n",
    "pattern_labels = kmeans.fit_predict(Xt)"
   ]
  },
  {
   "cell_type": "code",
   "execution_count": 47,
   "metadata": {},
   "outputs": [
    {
     "data": {
      "text/plain": [
       "array([3, 4, 1, 4, 0, 2, 0, 2, 2, 3, 3, 4, 1, 2, 0, 2, 2, 2, 4, 3, 4, 1,\n",
       "       4, 0, 2, 0, 2, 2, 4, 3, 4, 1, 4, 0, 2, 0, 2, 2, 4, 1, 4, 0, 2, 0,\n",
       "       2, 2, 2, 2, 3, 4, 1, 1, 0, 1, 0, 2, 2, 3, 4, 1, 1, 0, 2, 0, 2, 2,\n",
       "       3, 3, 4, 1, 0, 0, 2, 0, 2, 3, 4, 3, 4, 1, 2, 0, 2, 0, 2, 4, 3, 3,\n",
       "       0, 1, 0, 2, 2, 2, 2])"
      ]
     },
     "execution_count": 47,
     "metadata": {},
     "output_type": "execute_result"
    }
   ],
   "source": [
    "pattern_labels\n"
   ]
  },
  {
   "cell_type": "code",
   "execution_count": null,
   "metadata": {},
   "outputs": [],
   "source": []
  }
 ],
 "metadata": {
  "kernelspec": {
   "display_name": ".venv",
   "language": "python",
   "name": "python3"
  },
  "language_info": {
   "codemirror_mode": {
    "name": "ipython",
    "version": 3
   },
   "file_extension": ".py",
   "mimetype": "text/x-python",
   "name": "python",
   "nbconvert_exporter": "python",
   "pygments_lexer": "ipython3",
   "version": "3.10.6"
  }
 },
 "nbformat": 4,
 "nbformat_minor": 2
}
